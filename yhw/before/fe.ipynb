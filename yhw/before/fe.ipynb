{
 "cells": [
  {
   "cell_type": "markdown",
   "metadata": {},
   "source": [
    "FE"
   ]
  },
  {
   "cell_type": "code",
   "execution_count": null,
   "metadata": {},
   "outputs": [],
   "source": [
    "import pandas as pd"
   ]
  },
  {
   "cell_type": "code",
   "execution_count": null,
   "id": "108d2d80",
   "metadata": {},
   "outputs": [],
   "source": [
    "# 오류(SettingWithCopyError 발생)\n",
    "pd.set_option('mode.chained_assignment', 'raise') # SettingWithCopyError\n",
    "\n",
    "# 경고(SettingWithCopyWarning 발생, 기본 값입니다)\n",
    "pd.set_option('mode.chained_assignment', 'warn') # SettingWithCopyWarning\n",
    "\n",
    "# 무시\n",
    "pd.set_option('mode.chained_assignment',  None) # <==== 경고를 끈다"
   ]
  },
  {
   "cell_type": "code",
   "execution_count": null,
   "id": "114d8f17",
   "metadata": {},
   "outputs": [],
   "source": [
    "is_Train = True\n",
    "import numpy as np\n",
    "from tqdm import tqdm\n",
    "dtype = {\n",
    "    'userID': 'int16',\n",
    "    'answerCode': 'int8',\n",
    "    'KnowledgeTag': 'int16'\n",
    "}\n",
    "if is_Train:\n",
    "    df = pd.read_csv('input/data/train_data.csv', dtype=dtype, parse_dates=['Timestamp'])\n",
    "else:\n",
    "    df = pd.read_csv('input/data/test_data.csv', dtype=dtype, parse_dates=['Timestamp'])\n",
    "df = df.sort_values(by=['userID', 'Timestamp']).reset_index(drop=True)"
   ]
  },
  {
   "cell_type": "code",
   "execution_count": null,
   "id": "abf35cde",
   "metadata": {},
   "outputs": [],
   "source": [
    "df.head()"
   ]
  },
  {
   "cell_type": "code",
   "execution_count": null,
   "id": "3261718d",
   "metadata": {},
   "outputs": [],
   "source": [
    "df['endtime'] = np.roll(df['Timestamp'], -1)\n",
    "df['totaltime'] = (df['endtime'] - df['Timestamp'])\n",
    "time_ = list()\n",
    "for i in df['totaltime']:\n",
    "    a = i.total_seconds()\n",
    "    if a > 3600:\n",
    "        a = 3600\n",
    "    elif a < 0:\n",
    "        a = -1\n",
    "    time_.append(a)\n",
    "time_[-1] = -1\n",
    "\n",
    "def grouping(a):\n",
    "    if a < 0:\n",
    "        return -1\n",
    "    if a == 0:\n",
    "        return 0\n",
    "    elif 0 < a <= 10:\n",
    "        return 1\n",
    "    elif 10 < a <= 20:\n",
    "        return 2\n",
    "    elif 20 < a <= 40:\n",
    "        return 3\n",
    "    elif 40 < a <= 60:\n",
    "        return 4\n",
    "    elif 60 < a <= 120:\n",
    "        return 5\n",
    "    elif 120 < a <= 600:\n",
    "        return a//60 + 3\n",
    "    else: \n",
    "        return a//600 + 13\n",
    "# (-1~20) feat\n",
    "df['totaltime'] = [grouping(i) + 1 for i in time_]\n",
    "if is_Train:\n",
    "    np.save('/opt/ml/train_col/totaltime.npy', df['totaltime'])\n",
    "else:\n",
    "    np.save('/opt/ml/test_col/totaltime.npy', df['totaltime'])\n"
   ]
  },
  {
   "cell_type": "code",
   "execution_count": null,
   "id": "1d66316d",
   "metadata": {},
   "outputs": [],
   "source": [
    "if is_Train:\n",
    "    for i in [2,4,5,6,8,9]:\n",
    "        np.save('/opt/ml/train_col/assessmentItemID_' + str(i) + '.npy', np.array([j[i] for j in df['assessmentItemID']]))\n",
    "else:\n",
    "    for i in [2,4,5,6,8,9]:\n",
    "        np.save('/opt/ml/test_col/assessmentItemID_' + str(i) + '.npy', np.array([j[i] for j in df['assessmentItemID']]))"
   ]
  },
  {
   "cell_type": "code",
   "execution_count": null,
   "id": "a4eb7e3a",
   "metadata": {},
   "outputs": [],
   "source": [
    "from tqdm import tqdm\n",
    "li = list()\n",
    "for i in tqdm(np.unique(df['userID'])):\n",
    "    a = df[df['userID'] == i]\n",
    "    li += acc(a).to_list()\n",
    "if is_Train:\n",
    "    np.save('/opt/ml/train_col/acc_list.npy', np.array(li))\n",
    "else:\n",
    "    np.save('/opt/ml/test_col/acc_list.npy', np.array(li))\n",
    "    "
   ]
  },
  {
   "cell_type": "code",
   "execution_count": null,
   "id": "316f95db",
   "metadata": {},
   "outputs": [],
   "source": [
    "df_train = pd.read_csv('input/data/train_data.csv', dtype=dtype, parse_dates=['Timestamp'])\n",
    "df_test = pd.read_csv('input/data/test_data.csv', dtype=dtype, parse_dates=['Timestamp'])\n",
    "df_train = df_train.sort_values(by=['userID', 'Timestamp']).reset_index(drop=True)\n",
    "df_test = df_test.sort_values(by=['userID', 'Timestamp']).reset_index(drop=True)"
   ]
  },
  {
   "cell_type": "code",
   "execution_count": null,
   "id": "95196095",
   "metadata": {},
   "outputs": [],
   "source": [
    "set(df_train['assessmentItemID'].tolist()) == set(df_test['assessmentItemID'].tolist())"
   ]
  },
  {
   "cell_type": "code",
   "execution_count": null,
   "id": "7cd671d7",
   "metadata": {},
   "outputs": [
    {
     "name": "stderr",
     "output_type": "stream",
     "text": [
      "100%|██████████| 9454/9454 [24:20<00:00,  6.47it/s]\n"
     ]
    }
   ],
   "source": [
    "assess_corr = {}\n",
    "from tqdm import tqdm\n",
    "for i in tqdm(set(df_train['assessmentItemID'].tolist())):\n",
    "    tmp = df_train[df_train.assessmentItemID == i]\n",
    "    if sum(tmp.answerCode)/tmp.shape[0]>0.5:\n",
    "        assess_corr[i] = 1\n",
    "    else:\n",
    "        assess_corr[i] = 0\n",
    "    \n",
    "if is_Train:\n",
    "    np.save('/opt/ml/train_col/item_correct.npy',[assess_corr[i] for i in df['assessmentItemID']])\n",
    "else:\n",
    "    np.save('/opt/ml/test_col/item_correct.npy',[assess_corr[i] for i in df['assessmentItemID']])\n"
   ]
  },
  {
   "cell_type": "code",
   "execution_count": null,
   "id": "0968482f",
   "metadata": {},
   "outputs": [
    {
     "name": "stderr",
     "output_type": "stream",
     "text": [
      "100%|██████████| 1537/1537 [03:59<00:00,  6.40it/s]\n"
     ]
    }
   ],
   "source": [
    "item_corr = {}\n",
    "for i in tqdm(set(df_train['testId'].tolist())):\n",
    "    tmp = df_train[df_train.testId == i]\n",
    "    if sum(tmp.answerCode)/tmp.shape[0]>0.5:\n",
    "        item_corr[i] = 1\n",
    "    else:\n",
    "        item_corr[i] = 0\n",
    "\n",
    "if is_Train:\n",
    "    np.save('/opt/ml/train_col/test_correct.npy',[item_corr[i] for i in df['testId']])\n",
    "else:\n",
    "    np.save('/opt/ml/test_col/test_correct.npy',[item_corr[i] for i in df['testId']])\n"
   ]
  }
 ],
 "metadata": {
  "kernelspec": {
   "display_name": "Python 3.8.5 ('dkt': venv)",
   "language": "python",
   "name": "python3"
  },
  "language_info": {
   "name": "python",
   "version": "3.8.5"
  },
  "orig_nbformat": 4,
  "vscode": {
   "interpreter": {
    "hash": "a15a10eff4e6e0c2dcd8d509c16d9e72a8ecc5561814f6ec7422bab6ab43f27b"
   }
  }
 },
 "nbformat": 4,
 "nbformat_minor": 2
}
