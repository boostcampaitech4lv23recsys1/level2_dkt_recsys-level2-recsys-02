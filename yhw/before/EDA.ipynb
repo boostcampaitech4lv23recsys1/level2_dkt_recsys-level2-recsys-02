{
  "cells": [
    {
      "cell_type": "code",
      "execution_count": null,
      "id": "matched-balloon",
      "metadata": {
        "ExecuteTime": {
          "end_time": "2021-05-18T02:35:31.259617Z",
          "start_time": "2021-05-18T02:35:30.246082Z"
        },
        "id": "matched-balloon"
      },
      "outputs": [],
      "source": [
        "import numpy as np\n",
        "import pandas as pd\n",
        "import matplotlib.pyplot as plt\n",
        "import seaborn as sns; sns.set_theme(color_codes=True)"
      ]
    },
    {
      "cell_type": "code",
      "execution_count": null,
      "id": "blind-ocean",
      "metadata": {
        "ExecuteTime": {
          "end_time": "2021-05-18T02:35:35.846469Z",
          "start_time": "2021-05-18T02:35:31.260617Z"
        },
        "id": "blind-ocean",
        "outputId": "2cab408b-e216-4646-ef29-e7bf5517d915"
      },
      "outputs": [],
      "source": [
        "%%time\n",
        "dtype = {\n",
        "    'userID': 'int16',\n",
        "    'answerCode': 'int8',\n",
        "    'KnowledgeTag': 'int16'\n",
        "}   \n",
        "df = pd.read_csv('input/data/train_data.csv', dtype=dtype, parse_dates=['Timestamp'])\n",
        "df = df.sort_values(by=['userID', 'Timestamp']).reset_index(drop=True)"
      ]
    },
    {
      "cell_type": "code",
      "execution_count": null,
      "id": "arranged-completion",
      "metadata": {
        "ExecuteTime": {
          "end_time": "2021-05-18T02:35:35.861816Z",
          "start_time": "2021-05-18T02:35:35.847411Z"
        },
        "id": "arranged-completion"
      },
      "outputs": [],
      "source": [
        "def percentile(s):\n",
        "    return np.sum(s) / len(s)"
      ]
    },
    {
      "cell_type": "code",
      "execution_count": null,
      "id": "absolute-preserve",
      "metadata": {
        "ExecuteTime": {
          "end_time": "2021-05-18T02:35:36.466273Z",
          "start_time": "2021-05-18T02:35:35.862806Z"
        },
        "id": "absolute-preserve",
        "outputId": "7e1ceb4f-2c2d-4f66-e75e-0751f1b7a353"
      },
      "outputs": [],
      "source": [
        "stu_groupby = df.groupby('userID').agg({\n",
        "    'assessmentItemID': 'count',\n",
        "    'answerCode': percentile\n",
        "})\n",
        "stu_groupby.describe()"
      ]
    },
    {
      "cell_type": "markdown",
      "id": "favorite-insured",
      "metadata": {
        "id": "favorite-insured"
      },
      "source": [
        "## (a)"
      ]
    },
    {
      "cell_type": "code",
      "execution_count": null,
      "id": "acute-infrastructure",
      "metadata": {
        "ExecuteTime": {
          "end_time": "2021-05-18T02:35:36.482286Z",
          "start_time": "2021-05-18T02:35:36.467272Z"
        },
        "id": "acute-infrastructure"
      },
      "outputs": [],
      "source": [
        "itemnum_ans = stu_groupby.groupby('assessmentItemID').mean()\n",
        "itemnum_ans['num_items'] = itemnum_ans.index"
      ]
    },
    {
      "cell_type": "code",
      "execution_count": null,
      "id": "greater-investigator",
      "metadata": {
        "ExecuteTime": {
          "end_time": "2021-05-18T02:35:36.794779Z",
          "start_time": "2021-05-18T02:35:36.483272Z"
        },
        "id": "greater-investigator",
        "outputId": "9ea0521e-4405-41d2-96d4-e61d4c83f578"
      },
      "outputs": [],
      "source": [
        "fig, ax = plt.subplots()\n",
        "sns.regplot(data=itemnum_ans, x='num_items', y='answerCode',\n",
        "           line_kws={\"color\": \"orange\"}, scatter_kws={'alpha':0.6}, ax=ax)\n",
        "\n",
        "ax.set_title('# of Questions - Answer Rate')\n",
        "ax.set_xlabel('# of Questions')\n",
        "ax.set_ylabel('Answer Rate')"
      ]
    },
    {
      "cell_type": "markdown",
      "id": "pursuant-recipient",
      "metadata": {
        "id": "pursuant-recipient"
      },
      "source": [
        "## (b)"
      ]
    },
    {
      "cell_type": "code",
      "execution_count": null,
      "id": "exposed-transport",
      "metadata": {
        "ExecuteTime": {
          "end_time": "2021-05-18T02:37:16.047567Z",
          "start_time": "2021-05-18T02:37:16.008187Z"
        },
        "id": "exposed-transport"
      },
      "outputs": [],
      "source": [
        "itemnum_ans = stu_groupby.groupby('assessmentItemID').mean()\n",
        "bins = 300\n",
        "itemnum_ans['bins'] = pd.cut(\n",
        "    itemnum_ans.index,\n",
        "    [i * (itemnum_ans.index.max() - itemnum_ans.index.min()) // bins for i in range(bins)]\n",
        ")"
      ]
    },
    {
      "cell_type": "code",
      "execution_count": null,
      "id": "fixed-transcript",
      "metadata": {
        "ExecuteTime": {
          "end_time": "2021-05-18T02:37:16.189076Z",
          "start_time": "2021-05-18T02:37:16.182074Z"
        },
        "id": "fixed-transcript"
      },
      "outputs": [],
      "source": [
        "itemnum_ans = itemnum_ans.groupby('bins').mean()\n",
        "itemnum_ans['mid'] = list(map(lambda x: (x.left + x.right)//2, itemnum_ans.index))"
      ]
    },
    {
      "cell_type": "code",
      "execution_count": null,
      "id": "republican-monitoring",
      "metadata": {
        "ExecuteTime": {
          "end_time": "2021-05-18T02:37:16.633297Z",
          "start_time": "2021-05-18T02:37:16.335299Z"
        },
        "id": "republican-monitoring",
        "outputId": "3d92ecdc-c9ad-4a6a-d834-ffebce46e627"
      },
      "outputs": [],
      "source": [
        "fig, ax = plt.subplots()\n",
        "sns.regplot(data=itemnum_ans, x='mid', y='answerCode',\n",
        "           line_kws={\"color\": \"orange\"}, scatter_kws={'alpha': 0.6}, ax=ax)\n",
        "\n",
        "ax.set_title(f'# of Items - Answer Rate | bins={bins}')\n",
        "ax.set_xlabel('# of Items')\n",
        "ax.set_ylabel('Answer Rate')"
      ]
    },
    {
      "cell_type": "markdown",
      "id": "J_rw9hUlQax3",
      "metadata": {
        "id": "J_rw9hUlQax3"
      },
      "source": [
        "###**콘텐츠 라이선스**\n",
        "\n",
        "<font color='red'><b>**WARNING**</b></font> : **본 교육 콘텐츠의 지식재산권은 재단법인 네이버커넥트에 귀속됩니다. 본 콘텐츠를 어떠한 경로로든 외부로 유출 및 수정하는 행위를 엄격히 금합니다.** 다만, 비영리적 교육 및 연구활동에 한정되어 사용할 수 있으나 재단의 허락을 받아야 합니다. 이를 위반하는 경우, 관련 법률에 따라 책임을 질 수 있습니다.\n",
        "\n"
      ]
    },
    {
      "cell_type": "code",
      "execution_count": null,
      "id": "Gq4jiu-JQcN6",
      "metadata": {
        "id": "Gq4jiu-JQcN6"
      },
      "outputs": [],
      "source": [
        "(df == df.sort_values(['userID', 'Timestamp'], ascending = [True, True]))"
      ]
    },
    {
      "cell_type": "markdown",
      "id": "05ebf4fe",
      "metadata": {},
      "source": [
        "# FE"
      ]
    },
    {
      "cell_type": "code",
      "execution_count": null,
      "id": "2bac4ce9",
      "metadata": {},
      "outputs": [],
      "source": [
        "def acc(df_user):\n",
        "    df_user['acc_rate'] = np.zeros((df_user.shape[0],1))\n",
        "    a = 0\n",
        "    b = 0\n",
        "    for i in sorted(df_user.index):\n",
        "        b += 1\n",
        "        a += df_user['answerCode'][i]\n",
        "        df_user['acc_rate'][i] = a/b\n",
        "    return df_user['acc_rate']"
      ]
    },
    {
      "cell_type": "code",
      "execution_count": null,
      "id": "89eed4b8",
      "metadata": {},
      "outputs": [],
      "source": [
        "from tqdm import tqdm\n",
        "li = list()\n",
        "for i in tqdm(np.unique(df['userID'])):\n",
        "    a = df[df['userID'] == i]\n",
        "    li += acc(a).to_list()\n",
        "np.save('acc_list.npy', np.array(li))\n",
        "    "
      ]
    },
    {
      "cell_type": "code",
      "execution_count": null,
      "id": "ab3b702d",
      "metadata": {},
      "outputs": [],
      "source": [
        "df['acc_rate'] = li"
      ]
    },
    {
      "cell_type": "code",
      "execution_count": null,
      "id": "c35a1cf4",
      "metadata": {},
      "outputs": [],
      "source": [
        "def cut(a,b,s):\n",
        "    return s[a:b]\n",
        "\n",
        "df['sheet_id'] = [cut(1,7,i) for i in df['assessmentItemID']]\n",
        "df['sheet_pr_number'] = [cut(7,11,i) for i in df['assessmentItemID']]"
      ]
    },
    {
      "cell_type": "code",
      "execution_count": null,
      "id": "56106ed0",
      "metadata": {},
      "outputs": [],
      "source": [
        "df"
      ]
    },
    {
      "cell_type": "markdown",
      "id": "0a860a62",
      "metadata": {},
      "source": [
        "# baseline 정리"
      ]
    },
    {
      "cell_type": "code",
      "execution_count": null,
      "id": "c49aebac",
      "metadata": {},
      "outputs": [],
      "source": [
        "import numpy as np\n",
        "assess = np.load('input/code/dkt/asset/assessmentItemID_classes.npy')\n",
        "assess"
      ]
    },
    {
      "cell_type": "code",
      "execution_count": null,
      "id": "285b4e21",
      "metadata": {},
      "outputs": [],
      "source": [
        "knew = np.load('input/code/dkt/asset/KnowledgeTag_classes.npy')\n",
        "knew"
      ]
    },
    {
      "cell_type": "code",
      "execution_count": null,
      "id": "6ddb7c5b",
      "metadata": {},
      "outputs": [],
      "source": [
        "test = np.load('input/code/dkt/asset/testId_classes.npy')\n",
        "test"
      ]
    },
    {
      "cell_type": "code",
      "execution_count": null,
      "id": "b20b66ba",
      "metadata": {},
      "outputs": [],
      "source": [
        "from sklearn.preprocessing import LabelEncoder\n",
        "le = LabelEncoder()\n",
        "le.fit(knew)"
      ]
    },
    {
      "cell_type": "code",
      "execution_count": null,
      "id": "b9fb959b",
      "metadata": {},
      "outputs": [],
      "source": [
        "import pandas as pd\n",
        "dtype = {\n",
        "    'userID': 'int16',\n",
        "    'answerCode': 'int8',\n",
        "    'KnowledgeTag': 'int16'\n",
        "}   \n",
        "df = pd.read_csv('input/data/train_data.csv', dtype=dtype, parse_dates=['Timestamp'])\n",
        "df = df.sort_values(by=['userID', 'Timestamp']).reset_index(drop=True)\n",
        "df = df.sort_values(by=[\"userID\", \"Timestamp\"], axis=0)\n",
        "columns = [\"userID\", \"assessmentItemID\", \"testId\", \"answerCode\", \"KnowledgeTag\"]\n",
        "group = (\n",
        "    df[columns]\n",
        "    .groupby(\"userID\")\n",
        "    .apply(\n",
        "        lambda r: (\n",
        "            r[\"testId\"].values,\n",
        "            r[\"assessmentItemID\"].values,\n",
        "            r[\"KnowledgeTag\"].values,\n",
        "            r[\"answerCode\"].values,\n",
        "        )\n",
        "    )\n",
        ")"
      ]
    },
    {
      "cell_type": "code",
      "execution_count": null,
      "id": "abe90c22",
      "metadata": {},
      "outputs": [],
      "source": [
        "val = group.values"
      ]
    },
    {
      "cell_type": "code",
      "execution_count": null,
      "id": "af499112",
      "metadata": {},
      "outputs": [],
      "source": [
        "a, b, c, d  = val[1][0], val[1][1], val[1][2], val[1][3]"
      ]
    },
    {
      "cell_type": "code",
      "execution_count": null,
      "id": "95fdb49d",
      "metadata": {},
      "outputs": [],
      "source": [
        "cate_cal = [a, b, c, d]"
      ]
    },
    {
      "cell_type": "code",
      "execution_count": null,
      "id": "88d78466",
      "metadata": {},
      "outputs": [],
      "source": [
        "len(cate_cal) "
      ]
    },
    {
      "cell_type": "markdown",
      "id": "48cf7210",
      "metadata": {},
      "source": [
        "# EDA _ 2"
      ]
    },
    {
      "cell_type": "code",
      "execution_count": null,
      "id": "5c52d72c",
      "metadata": {},
      "outputs": [],
      "source": [
        "import numpy as np\n",
        "import pandas as pd"
      ]
    },
    {
      "cell_type": "code",
      "execution_count": null,
      "id": "cf53d449",
      "metadata": {},
      "outputs": [],
      "source": [
        "sub = pd.read_csv('input/data/sample_submission.csv')\n",
        "test = pd.read_csv('input/data/test_data.csv')\n",
        "train = pd.read_csv('input/data/train_data.csv')"
      ]
    },
    {
      "cell_type": "code",
      "execution_count": null,
      "id": "94785e54",
      "metadata": {},
      "outputs": [],
      "source": [
        "display(train.describe(), test.describe(), sub.describe())"
      ]
    },
    {
      "cell_type": "code",
      "execution_count": null,
      "id": "fd3fab8c",
      "metadata": {},
      "outputs": [],
      "source": [
        "train.shape, test.shape, sub.shape"
      ]
    },
    {
      "cell_type": "code",
      "execution_count": null,
      "id": "6655f8fd",
      "metadata": {},
      "outputs": [],
      "source": [
        "# cold start\n",
        "cold_start = (list(set(np.unique(test['userID'])) - set(np.unique(train['userID']))))\n",
        "len(cold_start)"
      ]
    },
    {
      "cell_type": "code",
      "execution_count": null,
      "id": "cade50d9",
      "metadata": {},
      "outputs": [],
      "source": [
        "# cold start sub 에서 비율\n",
        "len(list(set(np.unique(sub['id'])) & set(cold_start)))"
      ]
    },
    {
      "cell_type": "code",
      "execution_count": null,
      "id": "cbbd3075",
      "metadata": {},
      "outputs": [],
      "source": [
        "train.head()"
      ]
    },
    {
      "cell_type": "code",
      "execution_count": null,
      "id": "30bc15e9",
      "metadata": {},
      "outputs": [],
      "source": [
        "train_sample = train[train['userID'] == 0]\n",
        "train_sample.sort_values(by = 'Timestamp')\n",
        "a = train_sample.groupby(by = ['testId'])['answerCode'].sum()\n",
        "import seaborn as sns\n",
        "sns.lineplot(x = range(a.shape[0]), y = a.values)\n"
      ]
    },
    {
      "cell_type": "markdown",
      "id": "05d4087d",
      "metadata": {},
      "source": [
        "# FE for columns"
      ]
    },
    {
      "cell_type": "code",
      "execution_count": null,
      "id": "108d2d80",
      "metadata": {},
      "outputs": [],
      "source": [
        "# 오류(SettingWithCopyError 발생)\n",
        "pd.set_option('mode.chained_assignment', 'raise') # SettingWithCopyError\n",
        "\n",
        "# 경고(SettingWithCopyWarning 발생, 기본 값입니다)\n",
        "pd.set_option('mode.chained_assignment', 'warn') # SettingWithCopyWarning\n",
        "\n",
        "# 무시\n",
        "pd.set_option('mode.chained_assignment',  None) # <==== 경고를 끈다"
      ]
    },
    {
      "cell_type": "code",
      "execution_count": 3,
      "id": "114d8f17",
      "metadata": {},
      "outputs": [],
      "source": [
        "is_Train = True\n",
        "import pandas as pd\n",
        "import numpy as np\n",
        "from tqdm import tqdm\n",
        "dtype = {\n",
        "    'userID': 'int16',\n",
        "    'answerCode': 'int8',\n",
        "    'KnowledgeTag': 'int16'\n",
        "}\n",
        "if is_Train:\n",
        "    df = pd.read_csv('input/data/train_data.csv', dtype=dtype, parse_dates=['Timestamp'])\n",
        "else:\n",
        "    df = pd.read_csv('input/data/test_data.csv', dtype=dtype, parse_dates=['Timestamp'])\n",
        "df = df.sort_values(by=['userID', 'Timestamp']).reset_index(drop=True)"
      ]
    },
    {
      "cell_type": "code",
      "execution_count": null,
      "id": "abf35cde",
      "metadata": {},
      "outputs": [],
      "source": [
        "df.head()"
      ]
    },
    {
      "cell_type": "code",
      "execution_count": 53,
      "id": "3261718d",
      "metadata": {},
      "outputs": [],
      "source": [
        "df['endtime'] = np.roll(df['Timestamp'], -1)\n",
        "df['totaltime'] = (df['endtime'] - df['Timestamp'])\n",
        "time_ = list()\n",
        "for i in df['totaltime']:\n",
        "    a = i.total_seconds()\n",
        "    if a > 3600:\n",
        "        a = 3600\n",
        "    elif a < 0:\n",
        "        a = -1\n",
        "    time_.append(a)\n",
        "time_[-1] = -1\n",
        "\n",
        "def grouping(a):\n",
        "    if a < 0:\n",
        "        return -1\n",
        "    if a == 0:\n",
        "        return 0\n",
        "    elif 0 < a <= 10:\n",
        "        return 1\n",
        "    elif 10 < a <= 20:\n",
        "        return 2\n",
        "    elif 20 < a <= 40:\n",
        "        return 3\n",
        "    elif 40 < a <= 60:\n",
        "        return 4\n",
        "    elif 60 < a <= 120:\n",
        "        return 5\n",
        "    elif 120 < a <= 600:\n",
        "        return a//60 + 3\n",
        "    else: \n",
        "        return a//600 + 13\n",
        "# (-1~20) feat\n",
        "df['totaltime'] = [grouping(i) + 1 for i in time_]\n",
        "if is_Train:\n",
        "    np.save('/opt/ml/train_col/totaltime.npy', df['totaltime'])\n",
        "else:\n",
        "    np.save('/opt/ml/test_col/totaltime.npy', df['totaltime'])\n"
      ]
    },
    {
      "cell_type": "code",
      "execution_count": null,
      "id": "1d66316d",
      "metadata": {},
      "outputs": [],
      "source": [
        "if is_Train:\n",
        "    for i in [2,4,5,6,8,9]:\n",
        "        np.save('/opt/ml/train_col/assessmentItemID_' + str(i) + '.npy', np.array([j[i] for j in df['assessmentItemID']]))\n",
        "else:\n",
        "    for i in [2,4,5,6,8,9]:\n",
        "        np.save('/opt/ml/test_col/assessmentItemID_' + str(i) + '.npy', np.array([j[i] for j in df['assessmentItemID']]))"
      ]
    },
    {
      "cell_type": "code",
      "execution_count": null,
      "id": "a4eb7e3a",
      "metadata": {},
      "outputs": [],
      "source": [
        "from tqdm import tqdm\n",
        "li = list()\n",
        "for i in tqdm(np.unique(df['userID'])):\n",
        "    a = df[df['userID'] == i]\n",
        "    li += acc(a).to_list()\n",
        "if is_Train:\n",
        "    np.save('/opt/ml/train_col/acc_list.npy', np.array(li))\n",
        "else:\n",
        "    np.save('/opt/ml/test_col/acc_list.npy', np.array(li))\n",
        "    "
      ]
    },
    {
      "cell_type": "code",
      "execution_count": 5,
      "id": "316f95db",
      "metadata": {},
      "outputs": [],
      "source": [
        "df_train = pd.read_csv('input/data/train_data.csv', dtype=dtype, parse_dates=['Timestamp'])\n",
        "df_test = pd.read_csv('input/data/test_data.csv', dtype=dtype, parse_dates=['Timestamp'])\n",
        "df_train = df_train.sort_values(by=['userID', 'Timestamp']).reset_index(drop=True)\n",
        "df_test = df_test.sort_values(by=['userID', 'Timestamp']).reset_index(drop=True)"
      ]
    },
    {
      "cell_type": "code",
      "execution_count": null,
      "id": "95196095",
      "metadata": {},
      "outputs": [],
      "source": [
        "set(df_train['assessmentItemID'].tolist()) == set(df_test['assessmentItemID'].tolist())"
      ]
    },
    {
      "cell_type": "code",
      "execution_count": 6,
      "id": "7cd671d7",
      "metadata": {},
      "outputs": [
        {
          "name": "stderr",
          "output_type": "stream",
          "text": [
            "100%|██████████| 9454/9454 [24:20<00:00,  6.47it/s]\n"
          ]
        }
      ],
      "source": [
        "assess_corr = {}\n",
        "from tqdm import tqdm\n",
        "for i in tqdm(set(df_train['assessmentItemID'].tolist())):\n",
        "    tmp = df_train[df_train.assessmentItemID == i]\n",
        "    if sum(tmp.answerCode)/tmp.shape[0]>0.5:\n",
        "        assess_corr[i] = 1\n",
        "    else:\n",
        "        assess_corr[i] = 0\n",
        "    \n",
        "if is_Train:\n",
        "    np.save('/opt/ml/train_col/item_correct.npy',[assess_corr[i] for i in df['assessmentItemID']])\n",
        "else:\n",
        "    np.save('/opt/ml/test_col/item_correct.npy',[assess_corr[i] for i in df['assessmentItemID']])\n"
      ]
    },
    {
      "cell_type": "code",
      "execution_count": 17,
      "id": "0968482f",
      "metadata": {},
      "outputs": [
        {
          "name": "stderr",
          "output_type": "stream",
          "text": [
            "100%|██████████| 1537/1537 [03:59<00:00,  6.40it/s]\n"
          ]
        }
      ],
      "source": [
        "item_corr = {}\n",
        "for i in tqdm(set(df_train['testId'].tolist())):\n",
        "    tmp = df_train[df_train.testId == i]\n",
        "    if sum(tmp.answerCode)/tmp.shape[0]>0.5:\n",
        "        item_corr[i] = 1\n",
        "    else:\n",
        "        item_corr[i] = 0\n",
        "\n",
        "if is_Train:\n",
        "    np.save('/opt/ml/train_col/test_correct.npy',[item_corr[i] for i in df['testId']])\n",
        "else:\n",
        "    np.save('/opt/ml/test_col/test_correct.npy',[item_corr[i] for i in df['testId']])\n"
      ]
    },
    {
      "cell_type": "code",
      "execution_count": 16,
      "id": "f441c91f",
      "metadata": {},
      "outputs": [
        {
          "data": {
            "text/plain": [
              "10067"
            ]
          },
          "execution_count": 16,
          "metadata": {},
          "output_type": "execute_result"
        }
      ],
      "source": [
        "\n",
        "list(assess_corr.keys()).index('A060000001')"
      ]
    },
    {
      "cell_type": "code",
      "execution_count": null,
      "id": "43e4af58",
      "metadata": {},
      "outputs": [],
      "source": [
        "# user_corr = {}\n",
        "# for i in tqdm(set(df_train['userID'].tolist())):\n",
        "#     tmp = df_train[df_train.userID == i]\n",
        "#     user_corr[i] = sum(tmp.answerCode)/tmp.shape[0]\n",
        "\n",
        "# if is_Train:\n",
        "#     np.save('/opt/ml/train_col/test_correct.npy',[user_corr[i] for i in df['userID']])\n",
        "# else:\n",
        "#     np.save('/opt/ml/test_col/test_correct.npy',[user_corr[i] for i in df['userID']])"
      ]
    },
    {
      "cell_type": "code",
      "execution_count": 54,
      "id": "69ce4bc3",
      "metadata": {},
      "outputs": [
        {
          "data": {
            "text/plain": [
              "array([ 0,  1,  2,  3,  4,  5,  6,  7,  8,  9, 10, 11, 12, 13, 14, 15, 16,\n",
              "       17, 18, 19, 20])"
            ]
          },
          "execution_count": 54,
          "metadata": {},
          "output_type": "execute_result"
        }
      ],
      "source": [
        "np.unique(np.load('train_col/totaltime.npy')).astype(int)"
      ]
    },
    {
      "cell_type": "code",
      "execution_count": null,
      "id": "714b56a1",
      "metadata": {},
      "outputs": [],
      "source": []
    }
  ],
  "metadata": {
    "colab": {
      "collapsed_sections": [],
      "provenance": []
    },
    "kernelspec": {
      "display_name": "Python 3.8.5 ('dkt': venv)",
      "language": "python",
      "name": "python3"
    },
    "language_info": {
      "codemirror_mode": {
        "name": "ipython",
        "version": 3
      },
      "file_extension": ".py",
      "mimetype": "text/x-python",
      "name": "python",
      "nbconvert_exporter": "python",
      "pygments_lexer": "ipython3",
      "version": "3.8.5"
    },
    "toc": {
      "base_numbering": 1,
      "nav_menu": {},
      "number_sections": false,
      "sideBar": true,
      "skip_h1_title": false,
      "title_cell": "Table of Contents",
      "title_sidebar": "Contents",
      "toc_cell": false,
      "toc_position": {},
      "toc_section_display": true,
      "toc_window_display": true
    },
    "vscode": {
      "interpreter": {
        "hash": "a15a10eff4e6e0c2dcd8d509c16d9e72a8ecc5561814f6ec7422bab6ab43f27b"
      }
    }
  },
  "nbformat": 4,
  "nbformat_minor": 5
}
