{
 "cells": [
  {
   "cell_type": "code",
   "execution_count": 1,
   "metadata": {},
   "outputs": [],
   "source": [
    "import pandas as pd\n",
    "import numpy as np"
   ]
  },
  {
   "cell_type": "code",
   "execution_count": 5,
   "metadata": {},
   "outputs": [],
   "source": [
    "a = pd.read_csv('output/cat_8297_7823.csv')\n",
    "b = pd.read_csv('output/lgbm_8200_7527_fold.csv')\n",
    "c = pd.read_csv('output/gcn_7858_7177.csv')\n",
    "e = pd.read_csv('output/lstmattn_7811_6909.csv')\n",
    "\n",
    "d = (a['prediction']*0.45 + b['prediction']*0.4 + c['prediction']*0.15)*0.9 + e['prediction']*0.1\n",
    "b['prediction'] = d \n"
   ]
  },
  {
   "cell_type": "code",
   "execution_count": 6,
   "metadata": {},
   "outputs": [],
   "source": [
    "b.to_csv('/opt/ml/sub.csv')"
   ]
  },
  {
   "cell_type": "code",
   "execution_count": null,
   "metadata": {},
   "outputs": [],
   "source": []
  }
 ],
 "metadata": {
  "kernelspec": {
   "display_name": "Python 3.8.5 ('dkt_env': venv)",
   "language": "python",
   "name": "python3"
  },
  "language_info": {
   "codemirror_mode": {
    "name": "ipython",
    "version": 3
   },
   "file_extension": ".py",
   "mimetype": "text/x-python",
   "name": "python",
   "nbconvert_exporter": "python",
   "pygments_lexer": "ipython3",
   "version": "3.8.5"
  },
  "orig_nbformat": 4,
  "vscode": {
   "interpreter": {
    "hash": "fad12edb636dbc78e3b80fe6e41250393276d94079fcdfeefbbba96c125c63ea"
   }
  }
 },
 "nbformat": 4,
 "nbformat_minor": 2
}
