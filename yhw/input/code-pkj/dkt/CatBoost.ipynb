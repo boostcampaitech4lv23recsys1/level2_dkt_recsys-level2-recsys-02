{
 "cells": [
  {
   "cell_type": "code",
   "execution_count": 7,
   "id": "829e5666-283b-4ea8-b2c0-6d07dd6e0740",
   "metadata": {
    "tags": []
   },
   "outputs": [],
   "source": [
    "def custom_train_test_split(df, ratio=0.7, split=True):\n",
    "    \n",
    "    users = list(zip(df['userID'].value_counts().index, df['userID'].value_counts()))\n",
    "    random.shuffle(users)\n",
    "    \n",
    "    max_train_data_len = ratio*len(df)\n",
    "    sum_of_train_data = 0\n",
    "    user_ids =[]\n",
    "\n",
    "    for user_id, count in users:\n",
    "        sum_of_train_data += count\n",
    "        if max_train_data_len < sum_of_train_data:\n",
    "            break\n",
    "        user_ids.append(user_id)\n",
    "\n",
    "\n",
    "    train = df[df['userID'].isin(user_ids)]\n",
    "    test = df[df['userID'].isin(user_ids) == False]\n",
    "\n",
    "    #test데이터셋은 각 유저의 마지막 interaction만 추출\n",
    "    test = test[test['userID'] != test['userID'].shift(-1)]\n",
    "    return train, test"
   ]
  },
  {
   "cell_type": "code",
   "execution_count": 25,
   "id": "6ad670ba-77aa-485e-9a13-b3431d708e0b",
   "metadata": {},
   "outputs": [],
   "source": [
    "from catboost import CatBoostClassifier\n",
    "from sklearn.model_selection import train_test_split\n",
    "import pandas as pd\n",
    "import random\n",
    "\n",
    "FEATS = [\n",
    "   'KnowledgeTag', 'month', 'hour', 'week', 'elapsed', #'elapsed_cate',\n",
    "   'assessmentItemID0', 'assessmentItemID1', 'assessmentItemID2',\n",
    "   'testId0', 'testId1',# 'test0_mean', 'test0_std', 'test1_mean',\n",
    "   #'test1_std', 'tag_mean', 'tag_std', 'ass0_mean', 'ass0_std',\n",
    "   #'ass1_mean', 'ass1_std', 'ass2_mean', 'ass2_std',\n",
    "'as0_as1', 'as0_as2', 'as1_as2', 'assessmentItemID', 'week_hour', \n",
    "'KnowledgeTag2', 'assessmentItemID11', 'week_hour2']\n",
    "\n",
    "cate = ['KnowledgeTag', 'month', 'hour', 'week', 'testId0', 'testId1', #'elapsed_cate'\n",
    "       'assessmentItemID0', 'assessmentItemID1', 'assessmentItemID2',\n",
    "        'as0_as1', 'as0_as2', 'as1_as2', 'assessmentItemID', 'week_hour',\n",
    "       'KnowledgeTag2', 'assessmentItemID11', 'week_hour2']\n",
    "\n",
    "\n",
    "# cate = ['KnowledgeTag', 'month', 'hour', 'week', 'week_hour', 'elapsed_cate',\n",
    "\n",
    "# 'assessmentItemID0', 'assessmentItemID1', 'assessmentItemID2',]\n",
    "\n",
    "# conti = ['tag_mean', 'tag_std', 'ass0_mean', 'ass0_std', 'elapsed',\n",
    "\n",
    "# 'ass1_mean', 'ass1_std', 'ass2_mean', 'ass2_std', 'user_total_answer', 'solve_order']\n",
    "\n",
    "#FEATS = cate + conti\n",
    "df = pd.read_csv('../../data/elo.csv')\n",
    "\n",
    "df['KnowledgeTag2'] = df['KnowledgeTag']\n",
    "df['assessmentItemID11'] = df['assessmentItemID1']\n",
    "df['week_hour2'] = df['week_hour']\n",
    "\n",
    "for i in cate:\n",
    "    df[i] = df[i].astype('category')\n",
    "\n",
    "X_train_cat, X_test_cat, y_train_cat, y_test_cat = train_test_split(df[FEATS], df['answerCode'], test_size=0.2, shuffle=True, random_state=42)\n",
    "\n",
    "# train, test = custom_train_test_split(df)\n",
    "\n",
    "# y_train_cat = train['answerCode']\n",
    "# X_train_cat = train.drop(['answerCode'], axis=1)[FEATS]\n",
    "\n",
    "# y_test_cat = test['answerCode']\n",
    "# X_test_cat = test.drop(['answerCode'], axis=1)[FEATS]"
   ]
  },
  {
   "cell_type": "code",
   "execution_count": 23,
   "id": "43f89062-a0b2-4c0c-afbf-1caaf23899d6",
   "metadata": {
    "collapsed": true,
    "jupyter": {
     "outputs_hidden": true
    },
    "tags": []
   },
   "outputs": [
    {
     "name": "stdout",
     "output_type": "stream",
     "text": [
      "0:\ttest: 0.7858805\tbest: 0.7858805 (0)\ttotal: 2.82s\tremaining: 7h 50m 35s\n",
      "100:\ttest: 0.8111706\tbest: 0.8111706 (100)\ttotal: 3m 7s\tremaining: 5h 6m 57s\n",
      "200:\ttest: 0.8315080\tbest: 0.8315080 (200)\ttotal: 7m 47s\tremaining: 6h 19m 42s\n",
      "300:\ttest: 0.8506451\tbest: 0.8506451 (300)\ttotal: 12m 23s\tremaining: 6h 39m 15s\n",
      "400:\ttest: 0.8633003\tbest: 0.8633003 (400)\ttotal: 16m 46s\tremaining: 6h 41m 25s\n",
      "500:\ttest: 0.8589338\tbest: 0.8652977 (448)\ttotal: 21m 12s\tremaining: 6h 42m 9s\n",
      "600:\ttest: 0.8502585\tbest: 0.8652977 (448)\ttotal: 25m 35s\tremaining: 6h 40m 8s\n",
      "700:\ttest: 0.8455412\tbest: 0.8652977 (448)\ttotal: 29m 52s\tremaining: 6h 36m 14s\n",
      "800:\ttest: 0.8438544\tbest: 0.8652977 (448)\ttotal: 33m 54s\tremaining: 6h 29m 22s\n",
      "900:\ttest: 0.8440323\tbest: 0.8652977 (448)\ttotal: 37m 58s\tremaining: 6h 23m 28s\n",
      "1000:\ttest: 0.8448731\tbest: 0.8652977 (448)\ttotal: 41m 59s\tremaining: 6h 17m 33s\n",
      "1100:\ttest: 0.8448979\tbest: 0.8652977 (448)\ttotal: 46m 12s\tremaining: 6h 13m 29s\n",
      "1200:\ttest: 0.8443913\tbest: 0.8652977 (448)\ttotal: 50m 23s\tremaining: 6h 9m 14s\n",
      "1300:\ttest: 0.8440752\tbest: 0.8652977 (448)\ttotal: 54m 36s\tremaining: 6h 5m 9s\n",
      "1400:\ttest: 0.8437716\tbest: 0.8652977 (448)\ttotal: 58m 49s\tremaining: 6h 1m 5s\n",
      "1500:\ttest: 0.8437005\tbest: 0.8652977 (448)\ttotal: 1h 2m 49s\tremaining: 5h 55m 45s\n",
      "1600:\ttest: 0.8434888\tbest: 0.8652977 (448)\ttotal: 1h 6m 58s\tremaining: 5h 51m 22s\n",
      "1700:\ttest: 0.8435077\tbest: 0.8652977 (448)\ttotal: 1h 10m 50s\tremaining: 5h 45m 38s\n",
      "1800:\ttest: 0.8437531\tbest: 0.8652977 (448)\ttotal: 1h 14m 48s\tremaining: 5h 40m 32s\n",
      "1900:\ttest: 0.8438284\tbest: 0.8652977 (448)\ttotal: 1h 18m 38s\tremaining: 5h 35m 4s\n"
     ]
    },
    {
     "ename": "KeyboardInterrupt",
     "evalue": "",
     "output_type": "error",
     "traceback": [
      "\u001b[0;31m---------------------------------------------------------------------------\u001b[0m",
      "\u001b[0;31mKeyboardInterrupt\u001b[0m                         Traceback (most recent call last)",
      "Cell \u001b[0;32mIn [23], line 8\u001b[0m\n\u001b[1;32m      3\u001b[0m \u001b[38;5;28;01mimport\u001b[39;00m \u001b[38;5;21;01mnumpy\u001b[39;00m \u001b[38;5;28;01mas\u001b[39;00m \u001b[38;5;21;01mnp\u001b[39;00m\n\u001b[1;32m      5\u001b[0m catboost_cl \u001b[38;5;241m=\u001b[39m CatBoostClassifier(cat_features\u001b[38;5;241m=\u001b[39mcate, n_estimators\u001b[38;5;241m=\u001b[39m\u001b[38;5;241m10000\u001b[39m, eval_metric \u001b[38;5;241m=\u001b[39m\u001b[38;5;124m'\u001b[39m\u001b[38;5;124mAUC\u001b[39m\u001b[38;5;124m'\u001b[39m,\n\u001b[1;32m      6\u001b[0m                                 use_best_model\u001b[38;5;241m=\u001b[39m\u001b[38;5;28;01mFalse\u001b[39;00m, learning_rate\u001b[38;5;241m=\u001b[39m\u001b[38;5;241m0.015\u001b[39m)\n\u001b[0;32m----> 8\u001b[0m \u001b[43mcatboost_cl\u001b[49m\u001b[38;5;241;43m.\u001b[39;49m\u001b[43mfit\u001b[49m\u001b[43m(\u001b[49m\u001b[43mdf\u001b[49m\u001b[43m[\u001b[49m\u001b[43mFEATS\u001b[49m\u001b[43m]\u001b[49m\u001b[43m,\u001b[49m\u001b[43m \u001b[49m\u001b[43mdf\u001b[49m\u001b[43m[\u001b[49m\u001b[38;5;124;43m'\u001b[39;49m\u001b[38;5;124;43manswerCode\u001b[39;49m\u001b[38;5;124;43m'\u001b[39;49m\u001b[43m]\u001b[49m\u001b[43m,\u001b[49m\u001b[43m \u001b[49m\u001b[43mverbose\u001b[49m\u001b[38;5;241;43m=\u001b[39;49m\u001b[38;5;241;43m100\u001b[39;49m\u001b[43m,\u001b[49m\u001b[43m \u001b[49m\u001b[43meval_set\u001b[49m\u001b[38;5;241;43m=\u001b[39;49m\u001b[43m(\u001b[49m\u001b[43mX_test_cat\u001b[49m\u001b[43m,\u001b[49m\u001b[43m \u001b[49m\u001b[43my_test_cat\u001b[49m\u001b[43m)\u001b[49m\u001b[43m)\u001b[49m\n\u001b[1;32m     10\u001b[0m preds \u001b[38;5;241m=\u001b[39m catboost_cl\u001b[38;5;241m.\u001b[39mpredict_proba(X_test_cat)[:,\u001b[38;5;241m1\u001b[39m]\n\u001b[1;32m     11\u001b[0m acc \u001b[38;5;241m=\u001b[39m accuracy_score(y_test_cat, np\u001b[38;5;241m.\u001b[39mwhere(preds \u001b[38;5;241m>\u001b[39m\u001b[38;5;241m=\u001b[39m \u001b[38;5;241m0.5\u001b[39m, \u001b[38;5;241m1\u001b[39m, \u001b[38;5;241m0\u001b[39m))\n",
      "File \u001b[0;32m/opt/conda/lib/python3.8/site-packages/catboost/core.py:5128\u001b[0m, in \u001b[0;36mCatBoostClassifier.fit\u001b[0;34m(self, X, y, cat_features, text_features, embedding_features, sample_weight, baseline, use_best_model, eval_set, verbose, logging_level, plot, plot_file, column_description, verbose_eval, metric_period, silent, early_stopping_rounds, save_snapshot, snapshot_file, snapshot_interval, init_model, callbacks, log_cout, log_cerr)\u001b[0m\n\u001b[1;32m   5125\u001b[0m \u001b[38;5;28;01mif\u001b[39;00m \u001b[38;5;124m'\u001b[39m\u001b[38;5;124mloss_function\u001b[39m\u001b[38;5;124m'\u001b[39m \u001b[38;5;129;01min\u001b[39;00m params:\n\u001b[1;32m   5126\u001b[0m     CatBoostClassifier\u001b[38;5;241m.\u001b[39m_check_is_compatible_loss(params[\u001b[38;5;124m'\u001b[39m\u001b[38;5;124mloss_function\u001b[39m\u001b[38;5;124m'\u001b[39m])\n\u001b[0;32m-> 5128\u001b[0m \u001b[38;5;28;43mself\u001b[39;49m\u001b[38;5;241;43m.\u001b[39;49m\u001b[43m_fit\u001b[49m\u001b[43m(\u001b[49m\u001b[43mX\u001b[49m\u001b[43m,\u001b[49m\u001b[43m \u001b[49m\u001b[43my\u001b[49m\u001b[43m,\u001b[49m\u001b[43m \u001b[49m\u001b[43mcat_features\u001b[49m\u001b[43m,\u001b[49m\u001b[43m \u001b[49m\u001b[43mtext_features\u001b[49m\u001b[43m,\u001b[49m\u001b[43m \u001b[49m\u001b[43membedding_features\u001b[49m\u001b[43m,\u001b[49m\u001b[43m \u001b[49m\u001b[38;5;28;43;01mNone\u001b[39;49;00m\u001b[43m,\u001b[49m\u001b[43m \u001b[49m\u001b[43msample_weight\u001b[49m\u001b[43m,\u001b[49m\u001b[43m \u001b[49m\u001b[38;5;28;43;01mNone\u001b[39;49;00m\u001b[43m,\u001b[49m\u001b[43m \u001b[49m\u001b[38;5;28;43;01mNone\u001b[39;49;00m\u001b[43m,\u001b[49m\u001b[43m \u001b[49m\u001b[38;5;28;43;01mNone\u001b[39;49;00m\u001b[43m,\u001b[49m\u001b[43m \u001b[49m\u001b[38;5;28;43;01mNone\u001b[39;49;00m\u001b[43m,\u001b[49m\u001b[43m \u001b[49m\u001b[43mbaseline\u001b[49m\u001b[43m,\u001b[49m\u001b[43m \u001b[49m\u001b[43muse_best_model\u001b[49m\u001b[43m,\u001b[49m\n\u001b[1;32m   5129\u001b[0m \u001b[43m          \u001b[49m\u001b[43meval_set\u001b[49m\u001b[43m,\u001b[49m\u001b[43m \u001b[49m\u001b[43mverbose\u001b[49m\u001b[43m,\u001b[49m\u001b[43m \u001b[49m\u001b[43mlogging_level\u001b[49m\u001b[43m,\u001b[49m\u001b[43m \u001b[49m\u001b[43mplot\u001b[49m\u001b[43m,\u001b[49m\u001b[43m \u001b[49m\u001b[43mplot_file\u001b[49m\u001b[43m,\u001b[49m\u001b[43m \u001b[49m\u001b[43mcolumn_description\u001b[49m\u001b[43m,\u001b[49m\u001b[43m \u001b[49m\u001b[43mverbose_eval\u001b[49m\u001b[43m,\u001b[49m\u001b[43m \u001b[49m\u001b[43mmetric_period\u001b[49m\u001b[43m,\u001b[49m\n\u001b[1;32m   5130\u001b[0m \u001b[43m          \u001b[49m\u001b[43msilent\u001b[49m\u001b[43m,\u001b[49m\u001b[43m \u001b[49m\u001b[43mearly_stopping_rounds\u001b[49m\u001b[43m,\u001b[49m\u001b[43m \u001b[49m\u001b[43msave_snapshot\u001b[49m\u001b[43m,\u001b[49m\u001b[43m \u001b[49m\u001b[43msnapshot_file\u001b[49m\u001b[43m,\u001b[49m\u001b[43m \u001b[49m\u001b[43msnapshot_interval\u001b[49m\u001b[43m,\u001b[49m\u001b[43m \u001b[49m\u001b[43minit_model\u001b[49m\u001b[43m,\u001b[49m\u001b[43m \u001b[49m\u001b[43mcallbacks\u001b[49m\u001b[43m,\u001b[49m\u001b[43m \u001b[49m\u001b[43mlog_cout\u001b[49m\u001b[43m,\u001b[49m\u001b[43m \u001b[49m\u001b[43mlog_cerr\u001b[49m\u001b[43m)\u001b[49m\n\u001b[1;32m   5131\u001b[0m \u001b[38;5;28;01mreturn\u001b[39;00m \u001b[38;5;28mself\u001b[39m\n",
      "File \u001b[0;32m/opt/conda/lib/python3.8/site-packages/catboost/core.py:2355\u001b[0m, in \u001b[0;36mCatBoost._fit\u001b[0;34m(self, X, y, cat_features, text_features, embedding_features, pairs, sample_weight, group_id, group_weight, subgroup_id, pairs_weight, baseline, use_best_model, eval_set, verbose, logging_level, plot, plot_file, column_description, verbose_eval, metric_period, silent, early_stopping_rounds, save_snapshot, snapshot_file, snapshot_interval, init_model, callbacks, log_cout, log_cerr)\u001b[0m\n\u001b[1;32m   2351\u001b[0m allow_clear_pool \u001b[38;5;241m=\u001b[39m train_params[\u001b[38;5;124m\"\u001b[39m\u001b[38;5;124mallow_clear_pool\u001b[39m\u001b[38;5;124m\"\u001b[39m]\n\u001b[1;32m   2353\u001b[0m \u001b[38;5;28;01mwith\u001b[39;00m log_fixup(log_cout, log_cerr), \\\n\u001b[1;32m   2354\u001b[0m     plot_wrapper(plot, plot_file, \u001b[38;5;124m'\u001b[39m\u001b[38;5;124mTraining plots\u001b[39m\u001b[38;5;124m'\u001b[39m, [_get_train_dir(\u001b[38;5;28mself\u001b[39m\u001b[38;5;241m.\u001b[39mget_params())]):\n\u001b[0;32m-> 2355\u001b[0m     \u001b[38;5;28;43mself\u001b[39;49m\u001b[38;5;241;43m.\u001b[39;49m\u001b[43m_train\u001b[49m\u001b[43m(\u001b[49m\n\u001b[1;32m   2356\u001b[0m \u001b[43m        \u001b[49m\u001b[43mtrain_pool\u001b[49m\u001b[43m,\u001b[49m\n\u001b[1;32m   2357\u001b[0m \u001b[43m        \u001b[49m\u001b[43mtrain_params\u001b[49m\u001b[43m[\u001b[49m\u001b[38;5;124;43m\"\u001b[39;49m\u001b[38;5;124;43meval_sets\u001b[39;49m\u001b[38;5;124;43m\"\u001b[39;49m\u001b[43m]\u001b[49m\u001b[43m,\u001b[49m\n\u001b[1;32m   2358\u001b[0m \u001b[43m        \u001b[49m\u001b[43mparams\u001b[49m\u001b[43m,\u001b[49m\n\u001b[1;32m   2359\u001b[0m \u001b[43m        \u001b[49m\u001b[43mallow_clear_pool\u001b[49m\u001b[43m,\u001b[49m\n\u001b[1;32m   2360\u001b[0m \u001b[43m        \u001b[49m\u001b[43mtrain_params\u001b[49m\u001b[43m[\u001b[49m\u001b[38;5;124;43m\"\u001b[39;49m\u001b[38;5;124;43minit_model\u001b[39;49m\u001b[38;5;124;43m\"\u001b[39;49m\u001b[43m]\u001b[49m\n\u001b[1;32m   2361\u001b[0m \u001b[43m    \u001b[49m\u001b[43m)\u001b[49m\n\u001b[1;32m   2363\u001b[0m \u001b[38;5;66;03m# Have property feature_importance possibly set\u001b[39;00m\n\u001b[1;32m   2364\u001b[0m loss \u001b[38;5;241m=\u001b[39m \u001b[38;5;28mself\u001b[39m\u001b[38;5;241m.\u001b[39m_object\u001b[38;5;241m.\u001b[39m_get_loss_function_name()\n",
      "File \u001b[0;32m/opt/conda/lib/python3.8/site-packages/catboost/core.py:1759\u001b[0m, in \u001b[0;36m_CatBoostBase._train\u001b[0;34m(self, train_pool, test_pool, params, allow_clear_pool, init_model)\u001b[0m\n\u001b[1;32m   1758\u001b[0m \u001b[38;5;28;01mdef\u001b[39;00m \u001b[38;5;21m_train\u001b[39m(\u001b[38;5;28mself\u001b[39m, train_pool, test_pool, params, allow_clear_pool, init_model):\n\u001b[0;32m-> 1759\u001b[0m     \u001b[38;5;28;43mself\u001b[39;49m\u001b[38;5;241;43m.\u001b[39;49m\u001b[43m_object\u001b[49m\u001b[38;5;241;43m.\u001b[39;49m\u001b[43m_train\u001b[49m\u001b[43m(\u001b[49m\u001b[43mtrain_pool\u001b[49m\u001b[43m,\u001b[49m\u001b[43m \u001b[49m\u001b[43mtest_pool\u001b[49m\u001b[43m,\u001b[49m\u001b[43m \u001b[49m\u001b[43mparams\u001b[49m\u001b[43m,\u001b[49m\u001b[43m \u001b[49m\u001b[43mallow_clear_pool\u001b[49m\u001b[43m,\u001b[49m\u001b[43m \u001b[49m\u001b[43minit_model\u001b[49m\u001b[38;5;241;43m.\u001b[39;49m\u001b[43m_object\u001b[49m\u001b[43m \u001b[49m\u001b[38;5;28;43;01mif\u001b[39;49;00m\u001b[43m \u001b[49m\u001b[43minit_model\u001b[49m\u001b[43m \u001b[49m\u001b[38;5;28;43;01melse\u001b[39;49;00m\u001b[43m \u001b[49m\u001b[38;5;28;43;01mNone\u001b[39;49;00m\u001b[43m)\u001b[49m\n\u001b[1;32m   1760\u001b[0m     \u001b[38;5;28mself\u001b[39m\u001b[38;5;241m.\u001b[39m_set_trained_model_attributes()\n",
      "File \u001b[0;32m_catboost.pyx:4623\u001b[0m, in \u001b[0;36m_catboost._CatBoost._train\u001b[0;34m()\u001b[0m\n",
      "File \u001b[0;32m_catboost.pyx:4672\u001b[0m, in \u001b[0;36m_catboost._CatBoost._train\u001b[0;34m()\u001b[0m\n",
      "\u001b[0;31mKeyboardInterrupt\u001b[0m: "
     ]
    }
   ],
   "source": [
    "from sklearn.metrics import roc_auc_score\n",
    "from sklearn.metrics import accuracy_score\n",
    "import numpy as np\n",
    "\n",
    "catboost_cl = CatBoostClassifier(cat_features=cate, n_estimators=10000, eval_metric ='AUC',\n",
    "                                use_best_model=False, learning_rate=0.015)\n",
    "\n",
    "catboost_cl.fit(df[FEATS], df['answerCode'], verbose=100, eval_set=(X_test_cat, y_test_cat))\n",
    "\n",
    "preds = catboost_cl.predict_proba(X_test_cat)[:,1]\n",
    "acc = accuracy_score(y_test_cat, np.where(preds >= 0.5, 1, 0))\n",
    "auc = roc_auc_score(y_test_cat, preds)\n",
    "\n",
    "print(f'VALID AUC : {auc} ACC : {acc}\\n')"
   ]
  },
  {
   "cell_type": "code",
   "execution_count": 11,
   "id": "e52a928d-6ed2-432a-92a9-30aa83749e64",
   "metadata": {},
   "outputs": [],
   "source": [
    "sub = pd.read_csv('../../data/infer.csv')\n",
    "\n",
    "for i in cate:\n",
    "    sub[i] = sub[i].astype('category')\n",
    "    \n",
    "\n",
    "preds = catboost_cl.predict_proba(sub[FEATS])[:,1]\n",
    "    \n",
    "s = pd.read_csv('output/submission.csv')\n",
    "m = preds\n",
    "s['prediction'] = m\n",
    "\n",
    "s.to_csv('output/submission_cat_10000.csv', index=False)"
   ]
  },
  {
   "cell_type": "code",
   "execution_count": 48,
   "id": "944c5b0c-258f-4369-a4bc-0d5fc2f8ae0c",
   "metadata": {},
   "outputs": [],
   "source": [
    "def custom_train_test_split_fold_5(df, ratio=0.2, split=True):\n",
    "    \n",
    "    users = list(zip(df['userID'].value_counts().index, df['userID'].value_counts()))\n",
    "    random.shuffle(users)\n",
    "    \n",
    "    max_train_data_len = ratio*len(df)\n",
    "    sum_of_train_data, k = 0, 0\n",
    "    user_ids =[[],[],[],[],[]]\n",
    "\n",
    "    for user_id, count in users:\n",
    "        sum_of_train_data += count\n",
    "        if max_train_data_len < sum_of_train_data:\n",
    "            k += 1\n",
    "            max_train_data_len += ratio*len(df)\n",
    "        user_ids[k].append(user_id)\n",
    "\n",
    "    return user_ids\n"
   ]
  },
  {
   "cell_type": "code",
   "execution_count": 55,
   "id": "5b1d32a2-94db-4848-a21b-232e7942da9b",
   "metadata": {
    "collapsed": true,
    "jupyter": {
     "outputs_hidden": true
    },
    "tags": []
   },
   "outputs": [
    {
     "name": "stderr",
     "output_type": "stream",
     "text": [
      "  0%|          | 0/5 [00:00<?, ?it/s]"
     ]
    },
    {
     "name": "stdout",
     "output_type": "stream",
     "text": [
      "Learning rate set to 0.103118\n",
      "0:\ttest: 0.6934543\tbest: 0.6934543 (0)\ttotal: 868ms\tremaining: 1h 12m 20s\n",
      "Stopped by overfitting detector  (100 iterations wait)\n",
      "\n",
      "bestTest = 0.8048703488\n",
      "bestIteration = 273\n",
      "\n",
      "Shrink model to first 274 iterations.\n",
      "VALID AUC : 0.8048703488455524 ACC : 0.7230769230769231\n",
      "\n"
     ]
    },
    {
     "name": "stderr",
     "output_type": "stream",
     "text": [
      " 20%|██        | 1/5 [04:58<19:52, 298.20s/it]"
     ]
    },
    {
     "name": "stdout",
     "output_type": "stream",
     "text": [
      "Learning rate set to 0.103122\n",
      "0:\ttest: 0.7138384\tbest: 0.7138384 (0)\ttotal: 771ms\tremaining: 1h 4m 15s\n",
      "Stopped by overfitting detector  (100 iterations wait)\n",
      "\n",
      "bestTest = 0.8081097349\n",
      "bestIteration = 219\n",
      "\n",
      "Shrink model to first 220 iterations.\n"
     ]
    },
    {
     "name": "stderr",
     "output_type": "stream",
     "text": [
      " 40%|████      | 2/5 [09:11<14:14, 284.83s/it]"
     ]
    },
    {
     "name": "stdout",
     "output_type": "stream",
     "text": [
      "VALID AUC : 0.8081097349315728 ACC : 0.7336956521739131\n",
      "\n",
      "Learning rate set to 0.103104\n",
      "0:\ttest: 0.6965904\tbest: 0.6965904 (0)\ttotal: 757ms\tremaining: 1h 3m 5s\n",
      "Stopped by overfitting detector  (100 iterations wait)\n",
      "\n",
      "bestTest = 0.7934909084\n",
      "bestIteration = 189\n",
      "\n",
      "Shrink model to first 190 iterations.\n"
     ]
    },
    {
     "name": "stderr",
     "output_type": "stream",
     "text": [
      " 60%|██████    | 3/5 [12:58<08:54, 267.45s/it]"
     ]
    },
    {
     "name": "stdout",
     "output_type": "stream",
     "text": [
      "VALID AUC : 0.7934909084277142 ACC : 0.7191087103308575\n",
      "\n",
      "Learning rate set to 0.103119\n",
      "0:\ttest: 0.7250497\tbest: 0.7250497 (0)\ttotal: 844ms\tremaining: 1h 10m 20s\n",
      "Stopped by overfitting detector  (100 iterations wait)\n",
      "\n",
      "bestTest = 0.8075652673\n",
      "bestIteration = 119\n",
      "\n",
      "Shrink model to first 120 iterations.\n"
     ]
    },
    {
     "name": "stderr",
     "output_type": "stream",
     "text": [
      " 80%|████████  | 4/5 [15:53<03:59, 239.74s/it]"
     ]
    },
    {
     "name": "stdout",
     "output_type": "stream",
     "text": [
      "VALID AUC : 0.8075652673294167 ACC : 0.7318212141427618\n",
      "\n",
      "Learning rate set to 0.103109\n",
      "0:\ttest: 0.6907348\tbest: 0.6907348 (0)\ttotal: 843ms\tremaining: 1h 10m 13s\n",
      "Stopped by overfitting detector  (100 iterations wait)\n",
      "\n",
      "bestTest = 0.7925107527\n",
      "bestIteration = 217\n",
      "\n",
      "Shrink model to first 218 iterations.\n"
     ]
    },
    {
     "name": "stderr",
     "output_type": "stream",
     "text": [
      "100%|██████████| 5/5 [20:07<00:00, 241.51s/it]"
     ]
    },
    {
     "name": "stdout",
     "output_type": "stream",
     "text": [
      "VALID AUC : 0.792510752688172 ACC : 0.7163879598662207\n",
      "\n"
     ]
    },
    {
     "name": "stderr",
     "output_type": "stream",
     "text": [
      "\n"
     ]
    }
   ],
   "source": [
    "from tqdm import tqdm\n",
    "from sklearn.metrics import roc_auc_score\n",
    "from sklearn.metrics import accuracy_score\n",
    "import numpy as np\n",
    "\n",
    "user_id = custom_train_test_split_fold_5(df)\n",
    "\n",
    "for i in tqdm(range(5)):\n",
    "    u = []\n",
    "    for j in range(5):\n",
    "        if j != i:\n",
    "            u += user_id[j]\n",
    "        \n",
    "    train = df[df['userID'].isin(u)]\n",
    "    test = df[df['userID'].isin(u) == False]\n",
    "\n",
    "    #test데이터셋은 각 유저의 마지막 interaction만 추출\n",
    "    test = test[test['userID'] != test['userID'].shift(-1)]\n",
    "    \n",
    "    y_train_cat = train['answerCode']\n",
    "    X_train_cat = train.drop(['answerCode'], axis=1)[FEATS]\n",
    "\n",
    "    y_test_cat = test['answerCode']\n",
    "    X_test_cat = test.drop(['answerCode'], axis=1)[FEATS]\n",
    "\n",
    "   \n",
    "    # catboost_cl = CatBoostClassifier(cat_features=cate, n_estimators=5000, use_best_model=True,\n",
    "    # eval_metric ='AUC')\n",
    "    catboost_cl = CatBoostClassifier(cat_features=cate, n_estimators=5000, eval_metric ='AUC', \n",
    "                                     use_best_model=True, od_type = \"Iter\", od_wait = 100)\n",
    "    \n",
    "    catboost_cl.fit(X_train_cat, y_train_cat, verbose=500, eval_set=(X_test_cat, y_test_cat))\n",
    "    preds = catboost_cl.predict_proba(X_test_cat)[:,1]\n",
    "    acc = accuracy_score(y_test_cat, np.where(preds >= 0.5, 1, 0))\n",
    "    auc = roc_auc_score(y_test_cat, preds)\n",
    "    \n",
    "    print(f'VALID AUC : {auc} ACC : {acc}\\n')\n",
    "    \n",
    "    catboost_cl.save_model(f'catboost_info/model/catboost_{i}')"
   ]
  },
  {
   "cell_type": "code",
   "execution_count": null,
   "id": "9a62f001-f126-484a-8649-3fb2cdd6c68a",
   "metadata": {
    "tags": []
   },
   "outputs": [
    {
     "name": "stderr",
     "output_type": "stream",
     "text": [
      "0it [00:00, ?it/s]"
     ]
    },
    {
     "name": "stdout",
     "output_type": "stream",
     "text": [
      "Learning rate set to 0.076273\n",
      "0:\ttest: 0.7810810\tbest: 0.7810810 (0)\ttotal: 1.87s\tremaining: 5h 11m 11s\n",
      "500:\ttest: 0.8399595\tbest: 0.8399595 (500)\ttotal: 15m 28s\tremaining: 4h 53m 17s\n",
      "1000:\ttest: 0.8409357\tbest: 0.8409357 (1000)\ttotal: 30m 19s\tremaining: 4h 32m 41s\n",
      "1500:\ttest: 0.8415582\tbest: 0.8415582 (1500)\ttotal: 45m 24s\tremaining: 4h 17m 6s\n",
      "2000:\ttest: 0.8419653\tbest: 0.8419653 (2000)\ttotal: 1h 31s\tremaining: 4h 1m 56s\n",
      "2500:\ttest: 0.8421943\tbest: 0.8421961 (2483)\ttotal: 1h 15m 46s\tremaining: 3h 47m 13s\n",
      "3000:\ttest: 0.8424450\tbest: 0.8424465 (2987)\ttotal: 1h 32m 58s\tremaining: 3h 36m 49s\n",
      "3500:\ttest: 0.8425199\tbest: 0.8425220 (3483)\ttotal: 1h 49m 57s\tremaining: 3h 24m 6s\n",
      "4000:\ttest: 0.8426113\tbest: 0.8426113 (4000)\ttotal: 2h 7m 16s\tremaining: 3h 10m 50s\n",
      "4500:\ttest: 0.8427666\tbest: 0.8427688 (4489)\ttotal: 2h 24m 19s\tremaining: 2h 56m 19s\n",
      "5000:\ttest: 0.8429928\tbest: 0.8429942 (4991)\ttotal: 2h 40m 56s\tremaining: 2h 40m 52s\n",
      "5500:\ttest: 0.8430568\tbest: 0.8430590 (5453)\ttotal: 2h 57m 21s\tremaining: 2h 25m 2s\n",
      "6000:\ttest: 0.8431097\tbest: 0.8431105 (5991)\ttotal: 3h 13m 40s\tremaining: 2h 9m 3s\n",
      "Stopped by overfitting detector  (100 iterations wait)\n",
      "\n",
      "bestTest = 0.8431332108\n",
      "bestIteration = 6205\n",
      "\n",
      "Shrink model to first 6206 iterations.\n"
     ]
    },
    {
     "name": "stderr",
     "output_type": "stream",
     "text": [
      "1it [3:24:34, 12274.39s/it]"
     ]
    },
    {
     "name": "stdout",
     "output_type": "stream",
     "text": [
      "VALID AUC : 0.8431332107831392 ACC : 0.7909863972509462\n",
      "\n",
      "Learning rate set to 0.076273\n",
      "0:\ttest: 0.7823429\tbest: 0.7823429 (0)\ttotal: 2.2s\tremaining: 6h 6m 26s\n",
      "500:\ttest: 0.8396957\tbest: 0.8396957 (500)\ttotal: 18m 1s\tremaining: 5h 41m 42s\n",
      "1000:\ttest: 0.8405531\tbest: 0.8405531 (999)\ttotal: 33m 7s\tremaining: 4h 57m 47s\n",
      "1500:\ttest: 0.8410104\tbest: 0.8410129 (1487)\ttotal: 48m 5s\tremaining: 4h 32m 19s\n",
      "2000:\ttest: 0.8412819\tbest: 0.8412824 (1998)\ttotal: 1h 3m 21s\tremaining: 4h 13m 14s\n",
      "2500:\ttest: 0.8414930\tbest: 0.8414930 (2500)\ttotal: 1h 18m 43s\tremaining: 3h 56m 2s\n",
      "3000:\ttest: 0.8417015\tbest: 0.8417027 (2955)\ttotal: 1h 34m 16s\tremaining: 3h 39m 51s\n",
      "3500:\ttest: 0.8418839\tbest: 0.8418840 (3499)\ttotal: 1h 49m 47s\tremaining: 3h 23m 48s\n",
      "4000:\ttest: 0.8419702\tbest: 0.8419718 (3988)\ttotal: 2h 5m 52s\tremaining: 3h 8m 44s\n",
      "4500:\ttest: 0.8421065\tbest: 0.8421069 (4498)\ttotal: 2h 21m 51s\tremaining: 2h 53m 19s\n",
      "5000:\ttest: 0.8422781\tbest: 0.8422807 (4978)\ttotal: 2h 38m 16s\tremaining: 2h 38m 12s\n",
      "5500:\ttest: 0.8424028\tbest: 0.8424053 (5487)\ttotal: 2h 54m 42s\tremaining: 2h 22m 53s\n",
      "6000:\ttest: 0.8424827\tbest: 0.8424829 (5998)\ttotal: 3h 10m 56s\tremaining: 2h 7m 14s\n"
     ]
    }
   ],
   "source": [
    "from tqdm import tqdm\n",
    "from sklearn.metrics import roc_auc_score\n",
    "from sklearn.metrics import accuracy_score\n",
    "import numpy as np\n",
    "from sklearn.model_selection import StratifiedKFold\n",
    "\n",
    "str_kf = StratifiedKFold(n_splits = 5, shuffle = True, random_state = 42)\n",
    "\n",
    "X, y = df[FEATS], df['answerCode']\n",
    "\n",
    "for i, (train_index, test_index) in tqdm(enumerate(str_kf.split(X, y))):\n",
    "    X_train_cat, X_test_cat = X.loc[train_index], X.loc[test_index]\n",
    "    y_train_cat, y_test_cat = y.loc[train_index], y.loc[test_index]\n",
    "\n",
    "   \n",
    "    catboost_cl = CatBoostClassifier(cat_features=cate, n_estimators=10000, use_best_model=True,\n",
    "    eval_metric ='AUC', od_type = \"Iter\", od_wait = 100)\n",
    "\n",
    "    \n",
    "    catboost_cl.fit(X_train_cat, y_train_cat, verbose=500, eval_set=(X_test_cat, y_test_cat))\n",
    "    preds = catboost_cl.predict_proba(X_test_cat)[:,1]\n",
    "    acc = accuracy_score(y_test_cat, np.where(preds >= 0.5, 1, 0))\n",
    "    auc = roc_auc_score(y_test_cat, preds)\n",
    "    \n",
    "    print(f'VALID AUC : {auc} ACC : {acc}\\n')\n",
    "    \n",
    "    catboost_cl.save_model(f'catboost_info/model/catboost_{i}')"
   ]
  },
  {
   "cell_type": "code",
   "execution_count": 15,
   "id": "60521048-5dc1-4f21-adaf-e1cda9b3d273",
   "metadata": {
    "tags": []
   },
   "outputs": [
    {
     "name": "stderr",
     "output_type": "stream",
     "text": [
      "100%|██████████| 5/5 [00:13<00:00,  2.65s/it]\n"
     ]
    }
   ],
   "source": [
    "sub = pd.read_csv('../../data/infer.csv')\n",
    "\n",
    "for i in cate:\n",
    "    sub[i] = sub[i].astype('category')\n",
    "    \n",
    "p = []\n",
    "\n",
    "for i in tqdm(range(5)):\n",
    "    catboost_cl = CatBoostClassifier(cat_features=cate, n_estimators=5000)\n",
    "    catboost_cl.load_model(f'catboost_info/model/catboost_{i}')\n",
    "    preds = catboost_cl.predict_proba(sub[FEATS])[:,1]\n",
    "    p.append(preds)\n",
    "    \n",
    "s = pd.read_csv('output/submission.csv')\n",
    "m = (p[0] + p[1] + p[2] + p[3] + p[4])/5\n",
    "s['prediction'] = m\n",
    "\n",
    "s.to_csv('output/submission_cat_elo.csv', index=False)"
   ]
  },
  {
   "cell_type": "code",
   "execution_count": 2,
   "id": "d16d6436-67c1-4aa7-b355-a0b5f99d9eea",
   "metadata": {},
   "outputs": [],
   "source": [
    "sub = pd.read_csv('../../data/infer.csv')\n",
    "\n",
    "for i in cate:\n",
    "    sub[i] = sub[i].astype('category')\n",
    "    \n",
    "p = []\n",
    "\n",
    "i=0\n",
    "catboost_cl = CatBoostClassifier(cat_features=cate, n_estimators=5000)\n",
    "catboost_cl.load_model(f'catboost_info/model/catboost_{i}')\n",
    "preds = catboost_cl.predict_proba(sub[FEATS])[:,1]\n",
    "p.append(preds)\n",
    "    \n",
    "s = pd.read_csv('output/submission.csv')\n",
    "m = p[0]\n",
    "s['prediction'] = m\n",
    "\n",
    "s.to_csv('output/test.csv', index=False)"
   ]
  },
  {
   "cell_type": "code",
   "execution_count": 19,
   "id": "05673774-3150-41a2-9ab8-1e4e455235cd",
   "metadata": {},
   "outputs": [],
   "source": [
    "train = pd.read_csv('../../data/infer.csv')\n",
    "\n",
    "train['as0_as1'] =  [str(i)+'_'+str(j) for i, j in zip(list(train.assessmentItemID0), list(train.assessmentItemID1))]\n",
    "train['as0_as2'] =  [str(i)+'_'+str(j) for i, j in zip(list(train.assessmentItemID0), list(train.assessmentItemID2))]\n",
    "train['as1_as2'] =  [str(i)+'_'+str(j) for i, j in zip(list(train.assessmentItemID1), list(train.assessmentItemID2))]\n",
    "\n",
    "cate = ['as0_as1', 'as0_as2', 'as1_as2']\n",
    "for i in cate:\n",
    "    cate2label = {j:i for i,j in enumerate(train[i].unique())}\n",
    "    train[i] = train[i].map(cate2label)\n",
    "\n",
    "train.to_csv('../../data/infer.csv', index=False)"
   ]
  },
  {
   "cell_type": "code",
   "execution_count": 6,
   "id": "a6ce3c50-1f87-470b-880f-3f4cacc7d68f",
   "metadata": {
    "tags": []
   },
   "outputs": [
    {
     "name": "stderr",
     "output_type": "stream",
     "text": [
      "/tmp/ipykernel_16216/3616887153.py:3: SettingWithCopyWarning: \n",
      "A value is trying to be set on a copy of a slice from a DataFrame.\n",
      "Try using .loc[row_indexer,col_indexer] = value instead\n",
      "\n",
      "See the caveats in the documentation: https://pandas.pydata.org/pandas-docs/stable/user_guide/indexing.html#returning-a-view-versus-a-copy\n",
      "  sub['userID'] = sub['userID'].map(cate2label)\n",
      "/tmp/ipykernel_16216/3616887153.py:13: SettingWithCopyWarning: \n",
      "A value is trying to be set on a copy of a slice from a DataFrame.\n",
      "Try using .loc[row_indexer,col_indexer] = value instead\n",
      "\n",
      "See the caveats in the documentation: https://pandas.pydata.org/pandas-docs/stable/user_guide/indexing.html#returning-a-view-versus-a-copy\n",
      "  sub['Timestamp'] = sub['Timestamp'].apply(convert_time)\n"
     ]
    }
   ],
   "source": [
    "test = pd.read_csv('../../data/test.csv')\n",
    "sub = test[test['answerCode'] == -1]\n",
    "sub['userID'] = sub['userID'].map(cate2label)\n",
    "\n",
    "import time\n",
    "from datetime import datetime\n",
    "def convert_time(s):\n",
    "    timestamp = time.mktime(\n",
    "        datetime.strptime(s, \"%Y-%m-%d %H:%M:%S\").timetuple()\n",
    "    )\n",
    "    return int(timestamp)\n",
    "\n",
    "sub['Timestamp'] = sub['Timestamp'].apply(convert_time)\n",
    "\n",
    "preds = catboost_cl.predict_proba(sub[FEATS])[:,1]\n",
    "\n",
    "s = pd.read_csv('output/submission.csv')\n",
    "s['prediction'] = preds\n",
    "\n",
    "s.to_csv('output/submission_cat_2.0.csv', index=False)"
   ]
  },
  {
   "cell_type": "code",
   "execution_count": 3,
   "id": "08646f23-7080-4d81-a78f-a8b8c21fa99f",
   "metadata": {},
   "outputs": [
    {
     "data": {
      "text/plain": [
       "Index(['userID', 'assessmentItemID', 'testId', 'answerCode', 'Timestamp',\n",
       "       'KnowledgeTag', 'month', 'hour', 'week', 'elapsed', 'elapsed_cate',\n",
       "       'assessmentItemID0', 'assessmentItemID1', 'assessmentItemID2',\n",
       "       'testId0', 'testId1', 'test0_mean', 'test0_std', 'test1_mean',\n",
       "       'test1_std', 'tag_mean', 'tag_std', 'ass0_mean', 'ass0_std',\n",
       "       'ass1_mean', 'ass1_std', 'ass2_mean', 'ass2_std', 'user_correct_answer',\n",
       "       'user_total_answer', 'user_acc', 'recAccuracy', 'recCount'],\n",
       "      dtype='object')"
      ]
     },
     "execution_count": 3,
     "metadata": {},
     "output_type": "execute_result"
    }
   ],
   "source": [
    "test = pd.read_csv('../../data/test.csv')\n",
    "test.columns"
   ]
  },
  {
   "cell_type": "code",
   "execution_count": null,
   "id": "9ebca2d9-d0cc-4bb5-807f-e9bf444cd7b7",
   "metadata": {},
   "outputs": [],
   "source": [
    "FEATS = ['Timestamp', 'userID',\n",
    "       'KnowledgeTag', 'assessmentItemID0', 'assessmentItemID1',\n",
    "       'assessmentItemID2', 'month', 'hour', 'week', 'elapsed', 'elapsed_cate',\n",
    "       'tag_mean', 'tag_std', 'ass0_mean', 'ass0_std', 'ass1_mean', 'ass1_std',\n",
    "       'ass2_mean', 'ass2_std', 'user_total_answer']"
   ]
  },
  {
   "cell_type": "code",
   "execution_count": 13,
   "id": "e080fe69-8f52-4f8d-98b4-30032ccdcb61",
   "metadata": {},
   "outputs": [],
   "source": [
    "a = pd.read_csv('output/cat_0.8297_0.7823.csv')\n",
    "b = pd.read_csv('output/lgbm_8200_7527.csv')\n",
    "c = pd.read_csv('output/gcn_7858_7177.csv')\n",
    "\n",
    "d = (a['prediction']*0.45 + b['prediction']*0.4 + c['prediction']*0.15)\n",
    "b['prediction'] = d\n",
    "b.to_csv('output/p2.csv', index=False)"
   ]
  },
  {
   "cell_type": "code",
   "execution_count": null,
   "id": "fcfcdae6-7e09-43e8-b637-1ab23529b544",
   "metadata": {},
   "outputs": [],
   "source": []
  }
 ],
 "metadata": {
  "kernelspec": {
   "display_name": "Python 3 (ipykernel)",
   "language": "python",
   "name": "python3"
  },
  "language_info": {
   "codemirror_mode": {
    "name": "ipython",
    "version": 3
   },
   "file_extension": ".py",
   "mimetype": "text/x-python",
   "name": "python",
   "nbconvert_exporter": "python",
   "pygments_lexer": "ipython3",
   "version": "3.8.5"
  }
 },
 "nbformat": 4,
 "nbformat_minor": 5
}
