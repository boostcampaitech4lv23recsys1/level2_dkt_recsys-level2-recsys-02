{
 "cells": [
  {
   "cell_type": "code",
   "execution_count": 2,
   "id": "59698e58-31c1-492f-9759-6be7a8cc5b8f",
   "metadata": {},
   "outputs": [],
   "source": [
    "import pandas as pd\n",
    "import numpy as np\n",
    "\n",
    "train = pd.read_csv('../../data/train_test_data.csv')\n",
    "\n",
    "train['month'] = train.Timestamp.str[5:7]\n",
    "train['hour'] = train.Timestamp.str[11:13]"
   ]
  },
  {
   "cell_type": "code",
   "execution_count": 3,
   "id": "b0783eaa-5a7d-40d9-a2a3-50cdf0e39537",
   "metadata": {},
   "outputs": [],
   "source": [
    "import time\n",
    "from datetime import datetime\n",
    "def convert_time(s):\n",
    "    timestamp = time.mktime(\n",
    "        datetime.strptime(s, \"%Y-%m-%d %H:%M:%S\").timetuple()\n",
    "    )\n",
    "    return int(timestamp)\n",
    "\n",
    "train['Timestamp'] = train.Timestamp.apply(convert_time)"
   ]
  },
  {
   "cell_type": "code",
   "execution_count": 4,
   "id": "9d8e6b73-e3d4-4cea-b828-fea39196e0a3",
   "metadata": {},
   "outputs": [],
   "source": [
    "train['assessmentItemID0'] = train['assessmentItemID'].str[2]\n",
    "train['assessmentItemID1'] = train['assessmentItemID'].str[4:7]\n",
    "train['assessmentItemID2'] = train['assessmentItemID'].str[8:10]\n",
    "\n",
    "train['testId0'] = train['testId'].str[2]\n",
    "train['testId1'] = train['testId'].str[7:10]\n",
    "\n",
    "train = train.drop(['assessmentItemID', 'testId'], axis=1)\n",
    "\n",
    "train.to_csv('../../data/train_data_2.0.csv', index=False)"
   ]
  },
  {
   "cell_type": "code",
   "execution_count": 5,
   "id": "e395bb8d-e0be-452d-aec5-31b39bf21a5d",
   "metadata": {},
   "outputs": [],
   "source": [
    "train = train.sort_values(by=[\"userID\", \"Timestamp\"], axis=0)\n",
    "train.to_csv('../../data/train_data_2.0.csv', index=False)"
   ]
  },
  {
   "cell_type": "code",
   "execution_count": 7,
   "id": "eb79b99a-61f6-4937-8153-813dd0008a44",
   "metadata": {},
   "outputs": [
    {
     "data": {
      "text/plain": [
       "['userID',\n",
       " 'answerCode',\n",
       " 'Timestamp',\n",
       " 'KnowledgeTag',\n",
       " 'month',\n",
       " 'hour',\n",
       " 'assessmentItemID0',\n",
       " 'assessmentItemID1',\n",
       " 'assessmentItemID2',\n",
       " 'testId0',\n",
       " 'testId1']"
      ]
     },
     "execution_count": 7,
     "metadata": {},
     "output_type": "execute_result"
    }
   ],
   "source": [
    "list(train)"
   ]
  },
  {
   "cell_type": "code",
   "execution_count": null,
   "id": "523a4855-c317-4768-b92a-f3c139f14f73",
   "metadata": {},
   "outputs": [],
   "source": []
  }
 ],
 "metadata": {
  "kernelspec": {
   "display_name": "Python 3 (ipykernel)",
   "language": "python",
   "name": "python3"
  },
  "language_info": {
   "codemirror_mode": {
    "name": "ipython",
    "version": 3
   },
   "file_extension": ".py",
   "mimetype": "text/x-python",
   "name": "python",
   "nbconvert_exporter": "python",
   "pygments_lexer": "ipython3",
   "version": "3.8.5"
  }
 },
 "nbformat": 4,
 "nbformat_minor": 5
}
