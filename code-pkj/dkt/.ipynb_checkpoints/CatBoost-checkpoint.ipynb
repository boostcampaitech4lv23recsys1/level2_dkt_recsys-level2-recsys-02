{
 "cells": [
  {
   "cell_type": "code",
   "execution_count": 36,
   "id": "829e5666-283b-4ea8-b2c0-6d07dd6e0740",
   "metadata": {
    "tags": []
   },
   "outputs": [],
   "source": [
    "def custom_train_test_split(df, ratio=0.7, split=True):\n",
    "    \n",
    "    users = list(zip(df['userID'].value_counts().index, df['userID'].value_counts()))\n",
    "    random.shuffle(users)\n",
    "    \n",
    "    max_train_data_len = ratio*len(df)\n",
    "    sum_of_train_data = 0\n",
    "    user_ids =[]\n",
    "\n",
    "    for user_id, count in users:\n",
    "        sum_of_train_data += count\n",
    "        if max_train_data_len < sum_of_train_data:\n",
    "            break\n",
    "        user_ids.append(user_id)\n",
    "\n",
    "\n",
    "    train = df[df['userID'].isin(user_ids)]\n",
    "    test = df[df['userID'].isin(user_ids) == False]\n",
    "\n",
    "    #test데이터셋은 각 유저의 마지막 interaction만 추출\n",
    "    test = test[test['userID'] != test['userID'].shift(-1)]\n",
    "    return train, test"
   ]
  },
  {
   "cell_type": "code",
   "execution_count": 73,
   "id": "97f10d86-bd91-4d0a-8842-2c26e511db7d",
   "metadata": {},
   "outputs": [
    {
     "data": {
      "text/plain": [
       "0          0\n",
       "1          1\n",
       "2          1\n",
       "3          1\n",
       "4          1\n",
       "          ..\n",
       "2525951    0\n",
       "2525952    0\n",
       "2525953    1\n",
       "2525954    1\n",
       "2525955    1\n",
       "Name: inter, Length: 2525956, dtype: int64"
      ]
     },
     "execution_count": 73,
     "metadata": {},
     "output_type": "execute_result"
    }
   ],
   "source": []
  },
  {
   "cell_type": "code",
   "execution_count": 79,
   "id": "6ad670ba-77aa-485e-9a13-b3431d708e0b",
   "metadata": {},
   "outputs": [],
   "source": [
    "from catboost import CatBoostClassifier\n",
    "from sklearn.model_selection import train_test_split\n",
    "import pandas as pd\n",
    "import random\n",
    "\n",
    "FEATS = [\n",
    "   'KnowledgeTag', 'month', 'hour', 'week', 'elapsed', 'elapsed_cate',\n",
    "   'assessmentItemID0', 'assessmentItemID1', 'assessmentItemID2',\n",
    "   'testId0', 'testId1', 'test0_mean', 'test0_std', 'test1_mean',\n",
    "   'test1_std', 'tag_mean', 'tag_std', 'ass0_mean', 'ass0_std',\n",
    "   'ass1_mean', 'ass1_std', 'ass2_mean', 'ass2_std',]\n",
    "\n",
    "cate = ['KnowledgeTag', 'month', 'hour', 'week', 'elapsed_cate', 'testId0', 'testId1',\n",
    "       'assessmentItemID0', 'assessmentItemID1', 'assessmentItemID2']\n",
    "# cate = ['KnowledgeTag', 'month', 'hour', 'week', 'week_hour', 'elapsed_cate',\n",
    "\n",
    "# 'assessmentItemID0', 'assessmentItemID1', 'assessmentItemID2',]\n",
    "\n",
    "# conti = ['tag_mean', 'tag_std', 'ass0_mean', 'ass0_std', 'elapsed',\n",
    "\n",
    "# 'ass1_mean', 'ass1_std', 'ass2_mean', 'ass2_std', 'user_total_answer', 'solve_order']\n",
    "\n",
    "FEATS = cate + conti\n",
    "df = pd.read_csv('../../data/pkj.csv')\n",
    "\n",
    "train, test = custom_train_test_split(df)\n",
    "\n",
    "y_train_cat = train['answerCode']\n",
    "X_train_cat = train.drop(['answerCode'], axis=1)[FEATS]\n",
    "\n",
    "y_test_cat = test['answerCode']\n",
    "X_test_cat = test.drop(['answerCode'], axis=1)[FEATS]"
   ]
  },
  {
   "cell_type": "code",
   "execution_count": 80,
   "id": "43f89062-a0b2-4c0c-afbf-1caaf23899d6",
   "metadata": {
    "tags": []
   },
   "outputs": [
    {
     "name": "stdout",
     "output_type": "stream",
     "text": [
      "Learning rate set to 0.099769\n",
      "0:\ttest: 0.6941157\tbest: 0.6941157 (0)\ttotal: 715ms\tremaining: 59m 34s\n",
      "100:\ttest: 0.7782130\tbest: 0.7787668 (60)\ttotal: 1m 7s\tremaining: 54m 17s\n",
      "200:\ttest: 0.7830181\tbest: 0.7830181 (200)\ttotal: 2m 32s\tremaining: 1h 50s\n",
      "300:\ttest: 0.7841188\tbest: 0.7844676 (292)\ttotal: 3m 39s\tremaining: 57m 12s\n",
      "400:\ttest: 0.7852745\tbest: 0.7854757 (395)\ttotal: 5m 8s\tremaining: 58m 55s\n",
      "500:\ttest: 0.7848538\tbest: 0.7854757 (395)\ttotal: 6m 20s\tremaining: 56m 59s\n",
      "600:\ttest: 0.7857579\tbest: 0.7857579 (600)\ttotal: 7m 29s\tremaining: 54m 49s\n",
      "700:\ttest: 0.7855537\tbest: 0.7857893 (602)\ttotal: 8m 45s\tremaining: 53m 42s\n",
      "800:\ttest: 0.7853365\tbest: 0.7857893 (602)\ttotal: 9m 55s\tremaining: 52m 1s\n",
      "900:\ttest: 0.7854818\tbest: 0.7857893 (602)\ttotal: 11m 10s\tremaining: 50m 48s\n",
      "1000:\ttest: 0.7854084\tbest: 0.7857893 (602)\ttotal: 12m 22s\tremaining: 49m 25s\n",
      "1100:\ttest: 0.7858375\tbest: 0.7858551 (1097)\ttotal: 13m 33s\tremaining: 48m\n",
      "1200:\ttest: 0.7862146\tbest: 0.7862436 (1197)\ttotal: 14m 45s\tremaining: 46m 39s\n",
      "1300:\ttest: 0.7861863\tbest: 0.7863752 (1253)\ttotal: 15m 56s\tremaining: 45m 20s\n",
      "1400:\ttest: 0.7864387\tbest: 0.7864387 (1400)\ttotal: 17m 9s\tremaining: 44m 5s\n",
      "1500:\ttest: 0.7865381\tbest: 0.7865603 (1476)\ttotal: 18m 26s\tremaining: 42m 59s\n",
      "1600:\ttest: 0.7867401\tbest: 0.7867730 (1597)\ttotal: 19m 38s\tremaining: 41m 41s\n",
      "1700:\ttest: 0.7868479\tbest: 0.7869496 (1659)\ttotal: 20m 49s\tremaining: 40m 22s\n",
      "1800:\ttest: 0.7871042\tbest: 0.7871042 (1800)\ttotal: 22m\tremaining: 39m 5s\n",
      "1900:\ttest: 0.7869053\tbest: 0.7871042 (1800)\ttotal: 23m 16s\tremaining: 37m 57s\n",
      "2000:\ttest: 0.7867087\tbest: 0.7871042 (1800)\ttotal: 24m 29s\tremaining: 36m 43s\n",
      "2100:\ttest: 0.7867424\tbest: 0.7871042 (1800)\ttotal: 25m 45s\tremaining: 35m 32s\n",
      "2200:\ttest: 0.7868686\tbest: 0.7871042 (1800)\ttotal: 27m 3s\tremaining: 34m 24s\n",
      "2300:\ttest: 0.7867967\tbest: 0.7871042 (1800)\ttotal: 28m 19s\tremaining: 33m 13s\n",
      "Stopped by overfitting detector  (500 iterations wait)\n",
      "\n",
      "bestTest = 0.7871041567\n",
      "bestIteration = 1800\n",
      "\n",
      "Shrink model to first 1801 iterations.\n",
      "VALID AUC : 0.7871041566752106 ACC : 0.7097902097902098\n",
      "\n"
     ]
    }
   ],
   "source": [
    "from sklearn.metrics import roc_auc_score\n",
    "from sklearn.metrics import accuracy_score\n",
    "import numpy as np\n",
    "\n",
    "# Best trial:\n",
    "#   Value: 0.8161062067008433\n",
    "#   Params: \n",
    "#     objective: Logloss\n",
    "#     colsample_bylevel: 0.09974535513468831\n",
    "#     depth: 12\n",
    "#     boosting_type: Ordered\n",
    "#     bootstrap_type: MVS\n",
    "catboost_cl = CatBoostClassifier(cat_features=cate, n_estimators=5000, eval_metric ='AUC', \n",
    "                                 use_best_model=True, od_type = \"Iter\", od_wait = 500)\n",
    "\n",
    "catboost_cl.fit(X_train_cat, y_train_cat, verbose=100, eval_set=(X_test_cat, y_test_cat))\n",
    "\n",
    "preds = catboost_cl.predict_proba(X_test_cat)[:,1]\n",
    "acc = accuracy_score(y_test_cat, np.where(preds >= 0.5, 1, 0))\n",
    "auc = roc_auc_score(y_test_cat, preds)\n",
    "\n",
    "print(f'VALID AUC : {auc} ACC : {acc}\\n')\n",
    "# 0.801"
   ]
  },
  {
   "cell_type": "code",
   "execution_count": 48,
   "id": "944c5b0c-258f-4369-a4bc-0d5fc2f8ae0c",
   "metadata": {},
   "outputs": [],
   "source": [
    "def custom_train_test_split_fold_5(df, ratio=0.2, split=True):\n",
    "    \n",
    "    users = list(zip(df['userID'].value_counts().index, df['userID'].value_counts()))\n",
    "    random.shuffle(users)\n",
    "    \n",
    "    max_train_data_len = ratio*len(df)\n",
    "    sum_of_train_data, k = 0, 0\n",
    "    user_ids =[[],[],[],[],[]]\n",
    "\n",
    "    for user_id, count in users:\n",
    "        sum_of_train_data += count\n",
    "        if max_train_data_len < sum_of_train_data:\n",
    "            k += 1\n",
    "            max_train_data_len += ratio*len(df)\n",
    "        user_ids[k].append(user_id)\n",
    "\n",
    "    return user_ids\n"
   ]
  },
  {
   "cell_type": "code",
   "execution_count": 55,
   "id": "5b1d32a2-94db-4848-a21b-232e7942da9b",
   "metadata": {
    "tags": []
   },
   "outputs": [
    {
     "name": "stderr",
     "output_type": "stream",
     "text": [
      "  0%|          | 0/5 [00:00<?, ?it/s]"
     ]
    },
    {
     "name": "stdout",
     "output_type": "stream",
     "text": [
      "Learning rate set to 0.103118\n",
      "0:\ttest: 0.6934543\tbest: 0.6934543 (0)\ttotal: 868ms\tremaining: 1h 12m 20s\n",
      "Stopped by overfitting detector  (100 iterations wait)\n",
      "\n",
      "bestTest = 0.8048703488\n",
      "bestIteration = 273\n",
      "\n",
      "Shrink model to first 274 iterations.\n",
      "VALID AUC : 0.8048703488455524 ACC : 0.7230769230769231\n",
      "\n"
     ]
    },
    {
     "name": "stderr",
     "output_type": "stream",
     "text": [
      " 20%|██        | 1/5 [04:58<19:52, 298.20s/it]"
     ]
    },
    {
     "name": "stdout",
     "output_type": "stream",
     "text": [
      "Learning rate set to 0.103122\n",
      "0:\ttest: 0.7138384\tbest: 0.7138384 (0)\ttotal: 771ms\tremaining: 1h 4m 15s\n",
      "Stopped by overfitting detector  (100 iterations wait)\n",
      "\n",
      "bestTest = 0.8081097349\n",
      "bestIteration = 219\n",
      "\n",
      "Shrink model to first 220 iterations.\n"
     ]
    },
    {
     "name": "stderr",
     "output_type": "stream",
     "text": [
      " 40%|████      | 2/5 [09:11<14:14, 284.83s/it]"
     ]
    },
    {
     "name": "stdout",
     "output_type": "stream",
     "text": [
      "VALID AUC : 0.8081097349315728 ACC : 0.7336956521739131\n",
      "\n",
      "Learning rate set to 0.103104\n",
      "0:\ttest: 0.6965904\tbest: 0.6965904 (0)\ttotal: 757ms\tremaining: 1h 3m 5s\n",
      "Stopped by overfitting detector  (100 iterations wait)\n",
      "\n",
      "bestTest = 0.7934909084\n",
      "bestIteration = 189\n",
      "\n",
      "Shrink model to first 190 iterations.\n"
     ]
    },
    {
     "name": "stderr",
     "output_type": "stream",
     "text": [
      " 60%|██████    | 3/5 [12:58<08:54, 267.45s/it]"
     ]
    },
    {
     "name": "stdout",
     "output_type": "stream",
     "text": [
      "VALID AUC : 0.7934909084277142 ACC : 0.7191087103308575\n",
      "\n",
      "Learning rate set to 0.103119\n",
      "0:\ttest: 0.7250497\tbest: 0.7250497 (0)\ttotal: 844ms\tremaining: 1h 10m 20s\n",
      "Stopped by overfitting detector  (100 iterations wait)\n",
      "\n",
      "bestTest = 0.8075652673\n",
      "bestIteration = 119\n",
      "\n",
      "Shrink model to first 120 iterations.\n"
     ]
    },
    {
     "name": "stderr",
     "output_type": "stream",
     "text": [
      " 80%|████████  | 4/5 [15:53<03:59, 239.74s/it]"
     ]
    },
    {
     "name": "stdout",
     "output_type": "stream",
     "text": [
      "VALID AUC : 0.8075652673294167 ACC : 0.7318212141427618\n",
      "\n",
      "Learning rate set to 0.103109\n",
      "0:\ttest: 0.6907348\tbest: 0.6907348 (0)\ttotal: 843ms\tremaining: 1h 10m 13s\n",
      "Stopped by overfitting detector  (100 iterations wait)\n",
      "\n",
      "bestTest = 0.7925107527\n",
      "bestIteration = 217\n",
      "\n",
      "Shrink model to first 218 iterations.\n"
     ]
    },
    {
     "name": "stderr",
     "output_type": "stream",
     "text": [
      "100%|██████████| 5/5 [20:07<00:00, 241.51s/it]"
     ]
    },
    {
     "name": "stdout",
     "output_type": "stream",
     "text": [
      "VALID AUC : 0.792510752688172 ACC : 0.7163879598662207\n",
      "\n"
     ]
    },
    {
     "name": "stderr",
     "output_type": "stream",
     "text": [
      "\n"
     ]
    }
   ],
   "source": [
    "from tqdm import tqdm\n",
    "from sklearn.metrics import roc_auc_score\n",
    "from sklearn.metrics import accuracy_score\n",
    "import numpy as np\n",
    "\n",
    "user_id = custom_train_test_split_fold_5(df)\n",
    "\n",
    "for i in tqdm(range(5)):\n",
    "    u = []\n",
    "    for j in range(5):\n",
    "        if j != i:\n",
    "            u += user_id[j]\n",
    "        \n",
    "    train = df[df['userID'].isin(u)]\n",
    "    test = df[df['userID'].isin(u) == False]\n",
    "\n",
    "    #test데이터셋은 각 유저의 마지막 interaction만 추출\n",
    "    test = test[test['userID'] != test['userID'].shift(-1)]\n",
    "    \n",
    "    y_train_cat = train['answerCode']\n",
    "    X_train_cat = train.drop(['answerCode'], axis=1)[FEATS]\n",
    "\n",
    "    y_test_cat = test['answerCode']\n",
    "    X_test_cat = test.drop(['answerCode'], axis=1)[FEATS]\n",
    "\n",
    "   \n",
    "    # catboost_cl = CatBoostClassifier(cat_features=cate, n_estimators=5000, use_best_model=True,\n",
    "    # eval_metric ='AUC')\n",
    "    catboost_cl = CatBoostClassifier(cat_features=cate, n_estimators=5000, eval_metric ='AUC', \n",
    "                                     use_best_model=True, od_type = \"Iter\", od_wait = 100)\n",
    "    \n",
    "    catboost_cl.fit(X_train_cat, y_train_cat, verbose=500, eval_set=(X_test_cat, y_test_cat))\n",
    "    preds = catboost_cl.predict_proba(X_test_cat)[:,1]\n",
    "    acc = accuracy_score(y_test_cat, np.where(preds >= 0.5, 1, 0))\n",
    "    auc = roc_auc_score(y_test_cat, preds)\n",
    "    \n",
    "    print(f'VALID AUC : {auc} ACC : {acc}\\n')\n",
    "    \n",
    "    catboost_cl.save_model(f'catboost_info/model/catboost_{i}')"
   ]
  },
  {
   "cell_type": "code",
   "execution_count": 51,
   "id": "60521048-5dc1-4f21-adaf-e1cda9b3d273",
   "metadata": {
    "tags": []
   },
   "outputs": [
    {
     "name": "stderr",
     "output_type": "stream",
     "text": [
      "100%|██████████| 5/5 [00:00<00:00,  6.32it/s]\n"
     ]
    }
   ],
   "source": [
    "test = pd.read_csv('../../data/test.csv')\n",
    "sub = test[test['answerCode'] == -1]\n",
    "\n",
    "p = []\n",
    "\n",
    "for i in tqdm(range(5)):\n",
    "    catboost_cl = CatBoostClassifier(cat_features=cate, n_estimators=2000)\n",
    "    catboost_cl.load_model(f'catboost_info/model/catboost_{i}')\n",
    "    preds = catboost_cl.predict_proba(sub[FEATS])[:,1]\n",
    "    p.append(preds)\n",
    "    \n",
    "s = pd.read_csv('output/submission.csv')\n",
    "m = (p[0] + p[1] + p[2] + p[3] + p[4])/5\n",
    "s['prediction'] = m\n",
    "\n",
    "s.to_csv('output/submission_cat_hyp.csv', index=False)"
   ]
  },
  {
   "cell_type": "code",
   "execution_count": 6,
   "id": "a6ce3c50-1f87-470b-880f-3f4cacc7d68f",
   "metadata": {
    "tags": []
   },
   "outputs": [
    {
     "name": "stderr",
     "output_type": "stream",
     "text": [
      "/tmp/ipykernel_16216/3616887153.py:3: SettingWithCopyWarning: \n",
      "A value is trying to be set on a copy of a slice from a DataFrame.\n",
      "Try using .loc[row_indexer,col_indexer] = value instead\n",
      "\n",
      "See the caveats in the documentation: https://pandas.pydata.org/pandas-docs/stable/user_guide/indexing.html#returning-a-view-versus-a-copy\n",
      "  sub['userID'] = sub['userID'].map(cate2label)\n",
      "/tmp/ipykernel_16216/3616887153.py:13: SettingWithCopyWarning: \n",
      "A value is trying to be set on a copy of a slice from a DataFrame.\n",
      "Try using .loc[row_indexer,col_indexer] = value instead\n",
      "\n",
      "See the caveats in the documentation: https://pandas.pydata.org/pandas-docs/stable/user_guide/indexing.html#returning-a-view-versus-a-copy\n",
      "  sub['Timestamp'] = sub['Timestamp'].apply(convert_time)\n"
     ]
    }
   ],
   "source": [
    "test = pd.read_csv('../../data/test.csv')\n",
    "sub = test[test['answerCode'] == -1]\n",
    "sub['userID'] = sub['userID'].map(cate2label)\n",
    "\n",
    "import time\n",
    "from datetime import datetime\n",
    "def convert_time(s):\n",
    "    timestamp = time.mktime(\n",
    "        datetime.strptime(s, \"%Y-%m-%d %H:%M:%S\").timetuple()\n",
    "    )\n",
    "    return int(timestamp)\n",
    "\n",
    "sub['Timestamp'] = sub['Timestamp'].apply(convert_time)\n",
    "\n",
    "preds = catboost_cl.predict_proba(sub[FEATS])[:,1]\n",
    "\n",
    "s = pd.read_csv('output/submission.csv')\n",
    "s['prediction'] = preds\n",
    "\n",
    "s.to_csv('output/submission_cat_2.0.csv', index=False)"
   ]
  },
  {
   "cell_type": "code",
   "execution_count": 3,
   "id": "08646f23-7080-4d81-a78f-a8b8c21fa99f",
   "metadata": {},
   "outputs": [
    {
     "data": {
      "text/plain": [
       "Index(['userID', 'assessmentItemID', 'testId', 'answerCode', 'Timestamp',\n",
       "       'KnowledgeTag', 'month', 'hour', 'week', 'elapsed', 'elapsed_cate',\n",
       "       'assessmentItemID0', 'assessmentItemID1', 'assessmentItemID2',\n",
       "       'testId0', 'testId1', 'test0_mean', 'test0_std', 'test1_mean',\n",
       "       'test1_std', 'tag_mean', 'tag_std', 'ass0_mean', 'ass0_std',\n",
       "       'ass1_mean', 'ass1_std', 'ass2_mean', 'ass2_std', 'user_correct_answer',\n",
       "       'user_total_answer', 'user_acc', 'recAccuracy', 'recCount'],\n",
       "      dtype='object')"
      ]
     },
     "execution_count": 3,
     "metadata": {},
     "output_type": "execute_result"
    }
   ],
   "source": [
    "test = pd.read_csv('../../data/test.csv')\n",
    "test.columns"
   ]
  },
  {
   "cell_type": "code",
   "execution_count": null,
   "id": "9ebca2d9-d0cc-4bb5-807f-e9bf444cd7b7",
   "metadata": {},
   "outputs": [],
   "source": [
    "FEATS = ['Timestamp', 'userID',\n",
    "       'KnowledgeTag', 'assessmentItemID0', 'assessmentItemID1',\n",
    "       'assessmentItemID2', 'month', 'hour', 'week', 'elapsed', 'elapsed_cate',\n",
    "       'tag_mean', 'tag_std', 'ass0_mean', 'ass0_std', 'ass1_mean', 'ass1_std',\n",
    "       'ass2_mean', 'ass2_std', 'user_total_answer']"
   ]
  },
  {
   "cell_type": "code",
   "execution_count": 54,
   "id": "e080fe69-8f52-4f8d-98b4-30032ccdcb61",
   "metadata": {},
   "outputs": [],
   "source": [
    "a = pd.read_csv('output/output (1).csv')\n",
    "b = pd.read_csv('output/output (2).csv')\n",
    "\n",
    "c = (a['prediction'] + b['prediction'])/2\n",
    "b['prediction'] = c\n",
    "b.to_csv('output/p.csv', index=False)"
   ]
  }
 ],
 "metadata": {
  "kernelspec": {
   "display_name": "Python 3 (ipykernel)",
   "language": "python",
   "name": "python3"
  },
  "language_info": {
   "codemirror_mode": {
    "name": "ipython",
    "version": 3
   },
   "file_extension": ".py",
   "mimetype": "text/x-python",
   "name": "python",
   "nbconvert_exporter": "python",
   "pygments_lexer": "ipython3",
   "version": "3.8.5"
  }
 },
 "nbformat": 4,
 "nbformat_minor": 5
}
